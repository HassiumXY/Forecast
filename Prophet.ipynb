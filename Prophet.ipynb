{
 "cells": [
  {
   "cell_type": "code",
   "execution_count": 11,
   "metadata": {},
   "outputs": [],
   "source": [
    "import numpy as np\n",
    "import pandas as pd\n",
    "from warnings import warn\n",
    "import qgrid as qg\n",
    "\n",
    "import matplotlib.pyplot as plt"
   ]
  },
  {
   "cell_type": "code",
   "execution_count": 12,
   "metadata": {},
   "outputs": [],
   "source": [
    "data = pd.read_excel(\"q011.xlsx\")"
   ]
  },
  {
   "cell_type": "code",
   "execution_count": 13,
   "metadata": {},
   "outputs": [
    {
     "data": {
      "text/html": [
       "<div>\n",
       "<style scoped>\n",
       "    .dataframe tbody tr th:only-of-type {\n",
       "        vertical-align: middle;\n",
       "    }\n",
       "\n",
       "    .dataframe tbody tr th {\n",
       "        vertical-align: top;\n",
       "    }\n",
       "\n",
       "    .dataframe thead th {\n",
       "        text-align: right;\n",
       "    }\n",
       "</style>\n",
       "<table border=\"1\" class=\"dataframe\">\n",
       "  <thead>\n",
       "    <tr style=\"text-align: right;\">\n",
       "      <th></th>\n",
       "      <th>Код склада</th>\n",
       "      <th>Название склада</th>\n",
       "      <th>Дата</th>\n",
       "      <th>Код гр.</th>\n",
       "      <th>Название гр.</th>\n",
       "      <th>Код товара</th>\n",
       "      <th>1 наименование</th>\n",
       "      <th>2 наименование</th>\n",
       "      <th>кол-во</th>\n",
       "      <th>Сумма в пр.ценах</th>\n",
       "      <th>Сумма в ср. зак</th>\n",
       "      <th>Сумма в баз. Ценах</th>\n",
       "      <th>Стоимость одной штуки</th>\n",
       "    </tr>\n",
       "  </thead>\n",
       "  <tbody>\n",
       "    <tr>\n",
       "      <td>0</td>\n",
       "      <td>E</td>\n",
       "      <td>Б Грузино хоз</td>\n",
       "      <td>2017-08-10</td>\n",
       "      <td>Q01</td>\n",
       "      <td>Бытовая химия</td>\n",
       "      <td>23332850</td>\n",
       "      <td>Паста зубная Splat prof ультракомплекс 1</td>\n",
       "      <td>Паста зубная Splat prof ультракомплекс 100мл</td>\n",
       "      <td>1</td>\n",
       "      <td>154.0</td>\n",
       "      <td>109.51</td>\n",
       "      <td>159.0</td>\n",
       "      <td>159.0</td>\n",
       "    </tr>\n",
       "    <tr>\n",
       "      <td>1</td>\n",
       "      <td>E</td>\n",
       "      <td>Б Грузино хоз</td>\n",
       "      <td>2017-08-10</td>\n",
       "      <td>Q01</td>\n",
       "      <td>Бытовая химия</td>\n",
       "      <td>23595712</td>\n",
       "      <td>Щетка зубная Splat COMPLETE Soft для Ком</td>\n",
       "      <td>Щетка зубная Splat COMPLETE Soft для Комплексн...</td>\n",
       "      <td>1</td>\n",
       "      <td>174.0</td>\n",
       "      <td>116.21</td>\n",
       "      <td>179.0</td>\n",
       "      <td>179.0</td>\n",
       "    </tr>\n",
       "    <tr>\n",
       "      <td>2</td>\n",
       "      <td>E</td>\n",
       "      <td>Б Грузино хоз</td>\n",
       "      <td>2017-08-10</td>\n",
       "      <td>Q01</td>\n",
       "      <td>Бытовая химия</td>\n",
       "      <td>23668331</td>\n",
       "      <td>Паста зубная BLEND-A-MED ProExpert Все в</td>\n",
       "      <td>Паста зубная BLEND-A-MED ProExpert Все в одном...</td>\n",
       "      <td>1</td>\n",
       "      <td>169.0</td>\n",
       "      <td>114.72</td>\n",
       "      <td>169.0</td>\n",
       "      <td>169.0</td>\n",
       "    </tr>\n",
       "    <tr>\n",
       "      <td>3</td>\n",
       "      <td>E</td>\n",
       "      <td>Б Грузино хоз</td>\n",
       "      <td>2017-08-10</td>\n",
       "      <td>Q01</td>\n",
       "      <td>Бытовая химия</td>\n",
       "      <td>23782174</td>\n",
       "      <td>Прокладки гигиенические NATURELLA Camomi</td>\n",
       "      <td>Прокладки гигиенические NATURELLA Camomile Nor...</td>\n",
       "      <td>1</td>\n",
       "      <td>180.0</td>\n",
       "      <td>134.91</td>\n",
       "      <td>189.0</td>\n",
       "      <td>189.0</td>\n",
       "    </tr>\n",
       "    <tr>\n",
       "      <td>4</td>\n",
       "      <td>E</td>\n",
       "      <td>Б Грузино хоз</td>\n",
       "      <td>2017-08-10</td>\n",
       "      <td>Q01</td>\n",
       "      <td>Бытовая химия</td>\n",
       "      <td>23830790</td>\n",
       "      <td>Средство для мытья посуды 'Help' Бальзам</td>\n",
       "      <td>Средство для мытья посуды 'Help' Бальзам Лимон...</td>\n",
       "      <td>1</td>\n",
       "      <td>74.0</td>\n",
       "      <td>46.67</td>\n",
       "      <td>75.0</td>\n",
       "      <td>75.0</td>\n",
       "    </tr>\n",
       "  </tbody>\n",
       "</table>\n",
       "</div>"
      ],
      "text/plain": [
       "  Код склада Название склада       Дата Код гр.   Название гр.  Код товара  \\\n",
       "0          E   Б Грузино хоз 2017-08-10     Q01  Бытовая химия    23332850   \n",
       "1          E   Б Грузино хоз 2017-08-10     Q01  Бытовая химия    23595712   \n",
       "2          E   Б Грузино хоз 2017-08-10     Q01  Бытовая химия    23668331   \n",
       "3          E   Б Грузино хоз 2017-08-10     Q01  Бытовая химия    23782174   \n",
       "4          E   Б Грузино хоз 2017-08-10     Q01  Бытовая химия    23830790   \n",
       "\n",
       "                             1 наименование  \\\n",
       "0  Паста зубная Splat prof ультракомплекс 1   \n",
       "1  Щетка зубная Splat COMPLETE Soft для Ком   \n",
       "2  Паста зубная BLEND-A-MED ProExpert Все в   \n",
       "3  Прокладки гигиенические NATURELLA Camomi   \n",
       "4  Средство для мытья посуды 'Help' Бальзам   \n",
       "\n",
       "                                      2 наименование  кол-во  \\\n",
       "0       Паста зубная Splat prof ультракомплекс 100мл       1   \n",
       "1  Щетка зубная Splat COMPLETE Soft для Комплексн...       1   \n",
       "2  Паста зубная BLEND-A-MED ProExpert Все в одном...       1   \n",
       "3  Прокладки гигиенические NATURELLA Camomile Nor...       1   \n",
       "4  Средство для мытья посуды 'Help' Бальзам Лимон...       1   \n",
       "\n",
       "   Сумма в пр.ценах  Сумма в ср. зак  Сумма в баз. Ценах  \\\n",
       "0             154.0           109.51               159.0   \n",
       "1             174.0           116.21               179.0   \n",
       "2             169.0           114.72               169.0   \n",
       "3             180.0           134.91               189.0   \n",
       "4              74.0            46.67                75.0   \n",
       "\n",
       "   Стоимость одной штуки  \n",
       "0                  159.0  \n",
       "1                  179.0  \n",
       "2                  169.0  \n",
       "3                  189.0  \n",
       "4                   75.0  "
      ]
     },
     "execution_count": 13,
     "metadata": {},
     "output_type": "execute_result"
    }
   ],
   "source": [
    "data.head()"
   ]
  },
  {
   "cell_type": "code",
   "execution_count": 14,
   "metadata": {},
   "outputs": [
    {
     "name": "stdout",
     "output_type": "stream",
     "text": [
      "Кол-во уникальных товаров:  (1870,)\n",
      "Объем данных:  (853937, 13)\n"
     ]
    }
   ],
   "source": [
    "print('Кол-во уникальных товаров: ', data['Код товара'].unique().shape)\n",
    "print('Объем данных: ', data.shape)"
   ]
  },
  {
   "cell_type": "code",
   "execution_count": 15,
   "metadata": {},
   "outputs": [],
   "source": [
    "codes = data['Код товара'].unique()"
   ]
  },
  {
   "cell_type": "code",
   "execution_count": 22,
   "metadata": {},
   "outputs": [
    {
     "data": {
      "text/html": [
       "<div>\n",
       "<style scoped>\n",
       "    .dataframe tbody tr th:only-of-type {\n",
       "        vertical-align: middle;\n",
       "    }\n",
       "\n",
       "    .dataframe tbody tr th {\n",
       "        vertical-align: top;\n",
       "    }\n",
       "\n",
       "    .dataframe thead th {\n",
       "        text-align: right;\n",
       "    }\n",
       "</style>\n",
       "<table border=\"1\" class=\"dataframe\">\n",
       "  <thead>\n",
       "    <tr style=\"text-align: right;\">\n",
       "      <th></th>\n",
       "      <th>Дата</th>\n",
       "      <th>1 наименование</th>\n",
       "      <th>кол-во</th>\n",
       "      <th>Стоимость одной штуки</th>\n",
       "    </tr>\n",
       "  </thead>\n",
       "  <tbody>\n",
       "    <tr>\n",
       "      <td>28</td>\n",
       "      <td>2017-08-11</td>\n",
       "      <td>Хозяйственное мыло классическое 72%</td>\n",
       "      <td>3</td>\n",
       "      <td>32.0</td>\n",
       "    </tr>\n",
       "    <tr>\n",
       "      <td>190</td>\n",
       "      <td>2017-08-15</td>\n",
       "      <td>Хозяйственное мыло классическое 72%</td>\n",
       "      <td>4</td>\n",
       "      <td>32.0</td>\n",
       "    </tr>\n",
       "    <tr>\n",
       "      <td>224</td>\n",
       "      <td>2017-08-16</td>\n",
       "      <td>Хозяйственное мыло классическое 72%</td>\n",
       "      <td>4</td>\n",
       "      <td>32.0</td>\n",
       "    </tr>\n",
       "    <tr>\n",
       "      <td>488</td>\n",
       "      <td>2017-08-23</td>\n",
       "      <td>Хозяйственное мыло классическое 72%</td>\n",
       "      <td>1</td>\n",
       "      <td>32.0</td>\n",
       "    </tr>\n",
       "    <tr>\n",
       "      <td>530</td>\n",
       "      <td>2017-08-25</td>\n",
       "      <td>Хозяйственное мыло классическое 72%</td>\n",
       "      <td>1</td>\n",
       "      <td>32.0</td>\n",
       "    </tr>\n",
       "    <tr>\n",
       "      <td>...</td>\n",
       "      <td>...</td>\n",
       "      <td>...</td>\n",
       "      <td>...</td>\n",
       "      <td>...</td>\n",
       "    </tr>\n",
       "    <tr>\n",
       "      <td>850418</td>\n",
       "      <td>2020-07-02</td>\n",
       "      <td>Хозяйственное мыло классическое 72%</td>\n",
       "      <td>1</td>\n",
       "      <td>39.0</td>\n",
       "    </tr>\n",
       "    <tr>\n",
       "      <td>850628</td>\n",
       "      <td>2020-07-04</td>\n",
       "      <td>Хозяйственное мыло классическое 72%</td>\n",
       "      <td>1</td>\n",
       "      <td>39.0</td>\n",
       "    </tr>\n",
       "    <tr>\n",
       "      <td>853478</td>\n",
       "      <td>2020-08-04</td>\n",
       "      <td>Хозяйственное мыло классическое 72%</td>\n",
       "      <td>2</td>\n",
       "      <td>39.0</td>\n",
       "    </tr>\n",
       "    <tr>\n",
       "      <td>853684</td>\n",
       "      <td>2020-08-07</td>\n",
       "      <td>Хозяйственное мыло классическое 72%</td>\n",
       "      <td>1</td>\n",
       "      <td>39.0</td>\n",
       "    </tr>\n",
       "    <tr>\n",
       "      <td>853861</td>\n",
       "      <td>2020-08-09</td>\n",
       "      <td>Хозяйственное мыло классическое 72%</td>\n",
       "      <td>1</td>\n",
       "      <td>39.0</td>\n",
       "    </tr>\n",
       "  </tbody>\n",
       "</table>\n",
       "<p>5608 rows × 4 columns</p>\n",
       "</div>"
      ],
      "text/plain": [
       "             Дата                       1 наименование  кол-во  \\\n",
       "28     2017-08-11  Хозяйственное мыло классическое 72%       3   \n",
       "190    2017-08-15  Хозяйственное мыло классическое 72%       4   \n",
       "224    2017-08-16  Хозяйственное мыло классическое 72%       4   \n",
       "488    2017-08-23  Хозяйственное мыло классическое 72%       1   \n",
       "530    2017-08-25  Хозяйственное мыло классическое 72%       1   \n",
       "...           ...                                  ...     ...   \n",
       "850418 2020-07-02  Хозяйственное мыло классическое 72%       1   \n",
       "850628 2020-07-04  Хозяйственное мыло классическое 72%       1   \n",
       "853478 2020-08-04  Хозяйственное мыло классическое 72%       2   \n",
       "853684 2020-08-07  Хозяйственное мыло классическое 72%       1   \n",
       "853861 2020-08-09  Хозяйственное мыло классическое 72%       1   \n",
       "\n",
       "        Стоимость одной штуки  \n",
       "28                       32.0  \n",
       "190                      32.0  \n",
       "224                      32.0  \n",
       "488                      32.0  \n",
       "530                      32.0  \n",
       "...                       ...  \n",
       "850418                   39.0  \n",
       "850628                   39.0  \n",
       "853478                   39.0  \n",
       "853684                   39.0  \n",
       "853861                   39.0  \n",
       "\n",
       "[5608 rows x 4 columns]"
      ]
     },
     "execution_count": 22,
     "metadata": {},
     "output_type": "execute_result"
    }
   ],
   "source": [
    "data_code_test = data.loc[data['Код товара'] == codes[28]][['Дата', '1 наименование', 'кол-во', 'Стоимость одной штуки']]\n",
    "data_code_test"
   ]
  },
  {
   "cell_type": "code",
   "execution_count": 65,
   "metadata": {},
   "outputs": [],
   "source": [
    "data_code_test = qg.show_grid(data_code_test)"
   ]
  },
  {
   "cell_type": "code",
   "execution_count": 66,
   "metadata": {},
   "outputs": [
    {
     "data": {
      "application/vnd.jupyter.widget-view+json": {
       "model_id": "84825fb0eb4c4629929cab103a3dd45e",
       "version_major": 2,
       "version_minor": 0
      },
      "text/plain": [
       "QgridWidget(grid_options={'fullWidthRows': True, 'syncColumnCellResize': True, 'forceFitColumns': True, 'defau…"
      ]
     },
     "metadata": {},
     "output_type": "display_data"
    }
   ],
   "source": [
    "data_code_test"
   ]
  },
  {
   "cell_type": "code",
   "execution_count": 72,
   "metadata": {},
   "outputs": [
    {
     "data": {
      "text/html": [
       "<div>\n",
       "<style scoped>\n",
       "    .dataframe tbody tr th:only-of-type {\n",
       "        vertical-align: middle;\n",
       "    }\n",
       "\n",
       "    .dataframe tbody tr th {\n",
       "        vertical-align: top;\n",
       "    }\n",
       "\n",
       "    .dataframe thead th {\n",
       "        text-align: right;\n",
       "    }\n",
       "</style>\n",
       "<table border=\"1\" class=\"dataframe\">\n",
       "  <thead>\n",
       "    <tr style=\"text-align: right;\">\n",
       "      <th></th>\n",
       "      <th>Дата</th>\n",
       "      <th>1 наименование</th>\n",
       "      <th>кол-во</th>\n",
       "      <th>Стоимость одной штуки</th>\n",
       "    </tr>\n",
       "  </thead>\n",
       "  <tbody>\n",
       "    <tr>\n",
       "      <td>28</td>\n",
       "      <td>2017-08-11</td>\n",
       "      <td>Хозяйственное мыло классическое 72%</td>\n",
       "      <td>3</td>\n",
       "      <td>32.0</td>\n",
       "    </tr>\n",
       "    <tr>\n",
       "      <td>190</td>\n",
       "      <td>2017-08-15</td>\n",
       "      <td>Хозяйственное мыло классическое 72%</td>\n",
       "      <td>4</td>\n",
       "      <td>32.0</td>\n",
       "    </tr>\n",
       "    <tr>\n",
       "      <td>224</td>\n",
       "      <td>2017-08-16</td>\n",
       "      <td>Хозяйственное мыло классическое 72%</td>\n",
       "      <td>4</td>\n",
       "      <td>32.0</td>\n",
       "    </tr>\n",
       "    <tr>\n",
       "      <td>488</td>\n",
       "      <td>2017-08-23</td>\n",
       "      <td>Хозяйственное мыло классическое 72%</td>\n",
       "      <td>1</td>\n",
       "      <td>32.0</td>\n",
       "    </tr>\n",
       "    <tr>\n",
       "      <td>530</td>\n",
       "      <td>2017-08-25</td>\n",
       "      <td>Хозяйственное мыло классическое 72%</td>\n",
       "      <td>1</td>\n",
       "      <td>32.0</td>\n",
       "    </tr>\n",
       "    <tr>\n",
       "      <td>...</td>\n",
       "      <td>...</td>\n",
       "      <td>...</td>\n",
       "      <td>...</td>\n",
       "      <td>...</td>\n",
       "    </tr>\n",
       "    <tr>\n",
       "      <td>849886</td>\n",
       "      <td>2020-06-26</td>\n",
       "      <td>Хозяйственное мыло классическое 72%</td>\n",
       "      <td>1</td>\n",
       "      <td>NaN</td>\n",
       "    </tr>\n",
       "    <tr>\n",
       "      <td>849976</td>\n",
       "      <td>2020-06-27</td>\n",
       "      <td>Хозяйственное мыло классическое 72%</td>\n",
       "      <td>1</td>\n",
       "      <td>NaN</td>\n",
       "    </tr>\n",
       "    <tr>\n",
       "      <td>850333</td>\n",
       "      <td>2020-07-01</td>\n",
       "      <td>Хозяйственное мыло классическое 72%</td>\n",
       "      <td>1</td>\n",
       "      <td>39.0</td>\n",
       "    </tr>\n",
       "    <tr>\n",
       "      <td>850418</td>\n",
       "      <td>2020-07-02</td>\n",
       "      <td>Хозяйственное мыло классическое 72%</td>\n",
       "      <td>1</td>\n",
       "      <td>39.0</td>\n",
       "    </tr>\n",
       "    <tr>\n",
       "      <td>850628</td>\n",
       "      <td>2020-07-04</td>\n",
       "      <td>Хозяйственное мыло классическое 72%</td>\n",
       "      <td>1</td>\n",
       "      <td>39.0</td>\n",
       "    </tr>\n",
       "  </tbody>\n",
       "</table>\n",
       "<p>5581 rows × 4 columns</p>\n",
       "</div>"
      ],
      "text/plain": [
       "             Дата                       1 наименование  кол-во  \\\n",
       "28     2017-08-11  Хозяйственное мыло классическое 72%       3   \n",
       "190    2017-08-15  Хозяйственное мыло классическое 72%       4   \n",
       "224    2017-08-16  Хозяйственное мыло классическое 72%       4   \n",
       "488    2017-08-23  Хозяйственное мыло классическое 72%       1   \n",
       "530    2017-08-25  Хозяйственное мыло классическое 72%       1   \n",
       "...           ...                                  ...     ...   \n",
       "849886 2020-06-26  Хозяйственное мыло классическое 72%       1   \n",
       "849976 2020-06-27  Хозяйственное мыло классическое 72%       1   \n",
       "850333 2020-07-01  Хозяйственное мыло классическое 72%       1   \n",
       "850418 2020-07-02  Хозяйственное мыло классическое 72%       1   \n",
       "850628 2020-07-04  Хозяйственное мыло классическое 72%       1   \n",
       "\n",
       "        Стоимость одной штуки  \n",
       "28                       32.0  \n",
       "190                      32.0  \n",
       "224                      32.0  \n",
       "488                      32.0  \n",
       "530                      32.0  \n",
       "...                       ...  \n",
       "849886                    NaN  \n",
       "849976                    NaN  \n",
       "850333                   39.0  \n",
       "850418                   39.0  \n",
       "850628                   39.0  \n",
       "\n",
       "[5581 rows x 4 columns]"
      ]
     },
     "execution_count": 72,
     "metadata": {},
     "output_type": "execute_result"
    }
   ],
   "source": [
    "data_code_test.get_changed_df()"
   ]
  },
  {
   "cell_type": "code",
   "execution_count": 81,
   "metadata": {},
   "outputs": [
    {
     "ename": "ValueError",
     "evalue": "DataFrame constructor not properly called!",
     "output_type": "error",
     "traceback": [
      "\u001b[1;31m---------------------------------------------------------------------------\u001b[0m",
      "\u001b[1;31mValueError\u001b[0m                                Traceback (most recent call last)",
      "\u001b[1;32m<ipython-input-81-c20acc312c25>\u001b[0m in \u001b[0;36m<module>\u001b[1;34m\u001b[0m\n\u001b[1;32m----> 1\u001b[1;33m \u001b[0mdata_code_test\u001b[0m \u001b[1;33m=\u001b[0m \u001b[0mpd\u001b[0m\u001b[1;33m.\u001b[0m\u001b[0mDataFrame\u001b[0m\u001b[1;33m(\u001b[0m\u001b[0mdata\u001b[0m \u001b[1;33m=\u001b[0m \u001b[0mdata_code_test\u001b[0m\u001b[1;33m)\u001b[0m\u001b[1;33m\u001b[0m\u001b[1;33m\u001b[0m\u001b[0m\n\u001b[0m",
      "\u001b[1;32m~\\Anaconda3\\lib\\site-packages\\pandas\\core\\frame.py\u001b[0m in \u001b[0;36m__init__\u001b[1;34m(self, data, index, columns, dtype, copy)\u001b[0m\n\u001b[0;32m    483\u001b[0m                 )\n\u001b[0;32m    484\u001b[0m             \u001b[1;32melse\u001b[0m\u001b[1;33m:\u001b[0m\u001b[1;33m\u001b[0m\u001b[1;33m\u001b[0m\u001b[0m\n\u001b[1;32m--> 485\u001b[1;33m                 \u001b[1;32mraise\u001b[0m \u001b[0mValueError\u001b[0m\u001b[1;33m(\u001b[0m\u001b[1;34m\"DataFrame constructor not properly called!\"\u001b[0m\u001b[1;33m)\u001b[0m\u001b[1;33m\u001b[0m\u001b[1;33m\u001b[0m\u001b[0m\n\u001b[0m\u001b[0;32m    486\u001b[0m \u001b[1;33m\u001b[0m\u001b[0m\n\u001b[0;32m    487\u001b[0m         \u001b[0mNDFrame\u001b[0m\u001b[1;33m.\u001b[0m\u001b[0m__init__\u001b[0m\u001b[1;33m(\u001b[0m\u001b[0mself\u001b[0m\u001b[1;33m,\u001b[0m \u001b[0mmgr\u001b[0m\u001b[1;33m,\u001b[0m \u001b[0mfastpath\u001b[0m\u001b[1;33m=\u001b[0m\u001b[1;32mTrue\u001b[0m\u001b[1;33m)\u001b[0m\u001b[1;33m\u001b[0m\u001b[1;33m\u001b[0m\u001b[0m\n",
      "\u001b[1;31mValueError\u001b[0m: DataFrame constructor not properly called!"
     ]
    }
   ],
   "source": [
    "data_code_test = pd.DataFrame(data = data_code_test)"
   ]
  },
  {
   "cell_type": "code",
   "execution_count": 82,
   "metadata": {},
   "outputs": [
    {
     "ename": "AttributeError",
     "evalue": "'QgridWidget' object has no attribute 'to_excel'",
     "output_type": "error",
     "traceback": [
      "\u001b[1;31m---------------------------------------------------------------------------\u001b[0m",
      "\u001b[1;31mAttributeError\u001b[0m                            Traceback (most recent call last)",
      "\u001b[1;32m<ipython-input-82-4f0aa0a413c6>\u001b[0m in \u001b[0;36m<module>\u001b[1;34m\u001b[0m\n\u001b[1;32m----> 1\u001b[1;33m \u001b[0mdata_code_test\u001b[0m\u001b[1;33m.\u001b[0m\u001b[0mto_excel\u001b[0m\u001b[1;33m(\u001b[0m\u001b[1;34m'train.xlsx'\u001b[0m\u001b[1;33m)\u001b[0m\u001b[1;33m\u001b[0m\u001b[1;33m\u001b[0m\u001b[0m\n\u001b[0m",
      "\u001b[1;31mAttributeError\u001b[0m: 'QgridWidget' object has no attribute 'to_excel'"
     ]
    }
   ],
   "source": [
    "data_code_test.to_excel('train.xlsx')"
   ]
  },
  {
   "cell_type": "markdown",
   "metadata": {},
   "source": [
    "# Здесь начинается Пророк"
   ]
  },
  {
   "cell_type": "code",
   "execution_count": 68,
   "metadata": {},
   "outputs": [],
   "source": [
    "from fbprophet import Prophet\n",
    "from datetime import datetime\n",
    "import time"
   ]
  },
  {
   "cell_type": "code",
   "execution_count": 69,
   "metadata": {
    "scrolled": false
   },
   "outputs": [
    {
     "ename": "TypeError",
     "evalue": "'QgridWidget' object is not subscriptable",
     "output_type": "error",
     "traceback": [
      "\u001b[1;31m---------------------------------------------------------------------------\u001b[0m",
      "\u001b[1;31mTypeError\u001b[0m                                 Traceback (most recent call last)",
      "\u001b[1;32m<ipython-input-69-cf5a3a5c8bbb>\u001b[0m in \u001b[0;36m<module>\u001b[1;34m\u001b[0m\n\u001b[1;32m----> 1\u001b[1;33m \u001b[0mdates\u001b[0m\u001b[1;33m=\u001b[0m\u001b[0mdata_code_test\u001b[0m\u001b[1;33m[\u001b[0m\u001b[1;33m[\u001b[0m\u001b[1;34m'Дата'\u001b[0m\u001b[1;33m]\u001b[0m\u001b[1;33m]\u001b[0m\u001b[1;33m.\u001b[0m\u001b[0mvalues\u001b[0m\u001b[1;33m\u001b[0m\u001b[1;33m\u001b[0m\u001b[0m\n\u001b[0m",
      "\u001b[1;31mTypeError\u001b[0m: 'QgridWidget' object is not subscriptable"
     ]
    }
   ],
   "source": [
    "dates=data_code_test[['Дата']].values"
   ]
  },
  {
   "cell_type": "code",
   "execution_count": 50,
   "metadata": {},
   "outputs": [
    {
     "name": "stdout",
     "output_type": "stream",
     "text": [
      "['2017-08-11T00:00:00.000000000' '2017-08-15T00:00:00.000000000'\n",
      " '2017-08-16T00:00:00.000000000' ... '2020-08-04T00:00:00.000000000'\n",
      " '2020-08-07T00:00:00.000000000' '2020-08-09T00:00:00.000000000']\n"
     ]
    }
   ],
   "source": [
    "dates=data_code_test[['Дата']].values.reshape(1,-1)[0]\n",
    "print(dates)"
   ]
  },
  {
   "cell_type": "code",
   "execution_count": 51,
   "metadata": {},
   "outputs": [
    {
     "data": {
      "text/plain": [
       "DatetimeIndex(['2017-08-11', '2017-08-15', '2017-08-16', '2017-08-23',\n",
       "               '2017-08-25', '2017-08-31', '2017-09-02', '2017-09-09',\n",
       "               '2017-09-16', '2017-09-21',\n",
       "               ...\n",
       "               '2020-06-20', '2020-06-24', '2020-06-26', '2020-06-27',\n",
       "               '2020-07-01', '2020-07-02', '2020-07-04', '2020-08-04',\n",
       "               '2020-08-07', '2020-08-09'],\n",
       "              dtype='datetime64[ns]', length=5608, freq=None)"
      ]
     },
     "execution_count": 51,
     "metadata": {},
     "output_type": "execute_result"
    }
   ],
   "source": [
    "ds = pd.to_datetime(dates)\n",
    "ds"
   ]
  },
  {
   "cell_type": "code",
   "execution_count": 52,
   "metadata": {},
   "outputs": [
    {
     "name": "stdout",
     "output_type": "stream",
     "text": [
      "[3 4 4 ... 2 1 1]\n"
     ]
    }
   ],
   "source": [
    "y=data_code_test[['кол-во']].values.reshape(1,-1)[0]\n",
    "print(y)"
   ]
  },
  {
   "cell_type": "code",
   "execution_count": 53,
   "metadata": {},
   "outputs": [
    {
     "name": "stdout",
     "output_type": "stream",
     "text": [
      "(5608,) (5608,)\n"
     ]
    }
   ],
   "source": [
    "print(y.shape, ds.shape)"
   ]
  },
  {
   "cell_type": "code",
   "execution_count": 54,
   "metadata": {},
   "outputs": [],
   "source": [
    "predictions = 42"
   ]
  },
  {
   "cell_type": "code",
   "execution_count": 64,
   "metadata": {},
   "outputs": [
    {
     "data": {
      "text/html": [
       "<div>\n",
       "<style scoped>\n",
       "    .dataframe tbody tr th:only-of-type {\n",
       "        vertical-align: middle;\n",
       "    }\n",
       "\n",
       "    .dataframe tbody tr th {\n",
       "        vertical-align: top;\n",
       "    }\n",
       "\n",
       "    .dataframe thead th {\n",
       "        text-align: right;\n",
       "    }\n",
       "</style>\n",
       "<table border=\"1\" class=\"dataframe\">\n",
       "  <thead>\n",
       "    <tr style=\"text-align: right;\">\n",
       "      <th></th>\n",
       "      <th>ds</th>\n",
       "      <th>y</th>\n",
       "    </tr>\n",
       "  </thead>\n",
       "  <tbody>\n",
       "    <tr>\n",
       "      <td>5566</td>\n",
       "      <td>2019-07-02</td>\n",
       "      <td>4</td>\n",
       "    </tr>\n",
       "    <tr>\n",
       "      <td>5567</td>\n",
       "      <td>2019-07-04</td>\n",
       "      <td>1</td>\n",
       "    </tr>\n",
       "    <tr>\n",
       "      <td>5568</td>\n",
       "      <td>2019-07-05</td>\n",
       "      <td>1</td>\n",
       "    </tr>\n",
       "    <tr>\n",
       "      <td>5569</td>\n",
       "      <td>2019-07-06</td>\n",
       "      <td>2</td>\n",
       "    </tr>\n",
       "    <tr>\n",
       "      <td>5570</td>\n",
       "      <td>2019-07-08</td>\n",
       "      <td>2</td>\n",
       "    </tr>\n",
       "    <tr>\n",
       "      <td>5571</td>\n",
       "      <td>2019-07-21</td>\n",
       "      <td>2</td>\n",
       "    </tr>\n",
       "    <tr>\n",
       "      <td>5572</td>\n",
       "      <td>2019-08-01</td>\n",
       "      <td>1</td>\n",
       "    </tr>\n",
       "    <tr>\n",
       "      <td>5573</td>\n",
       "      <td>2019-08-02</td>\n",
       "      <td>2</td>\n",
       "    </tr>\n",
       "    <tr>\n",
       "      <td>5574</td>\n",
       "      <td>2019-08-07</td>\n",
       "      <td>1</td>\n",
       "    </tr>\n",
       "    <tr>\n",
       "      <td>5575</td>\n",
       "      <td>2019-09-06</td>\n",
       "      <td>2</td>\n",
       "    </tr>\n",
       "    <tr>\n",
       "      <td>5576</td>\n",
       "      <td>2019-09-13</td>\n",
       "      <td>1</td>\n",
       "    </tr>\n",
       "    <tr>\n",
       "      <td>5577</td>\n",
       "      <td>2019-09-14</td>\n",
       "      <td>1</td>\n",
       "    </tr>\n",
       "    <tr>\n",
       "      <td>5578</td>\n",
       "      <td>2019-09-18</td>\n",
       "      <td>1</td>\n",
       "    </tr>\n",
       "    <tr>\n",
       "      <td>5579</td>\n",
       "      <td>2019-09-23</td>\n",
       "      <td>2</td>\n",
       "    </tr>\n",
       "    <tr>\n",
       "      <td>5580</td>\n",
       "      <td>2019-10-11</td>\n",
       "      <td>1</td>\n",
       "    </tr>\n",
       "    <tr>\n",
       "      <td>5581</td>\n",
       "      <td>2019-10-23</td>\n",
       "      <td>1</td>\n",
       "    </tr>\n",
       "    <tr>\n",
       "      <td>5582</td>\n",
       "      <td>2019-10-25</td>\n",
       "      <td>1</td>\n",
       "    </tr>\n",
       "    <tr>\n",
       "      <td>5583</td>\n",
       "      <td>2019-10-26</td>\n",
       "      <td>5</td>\n",
       "    </tr>\n",
       "    <tr>\n",
       "      <td>5584</td>\n",
       "      <td>2019-11-07</td>\n",
       "      <td>10</td>\n",
       "    </tr>\n",
       "    <tr>\n",
       "      <td>5585</td>\n",
       "      <td>2019-11-17</td>\n",
       "      <td>1</td>\n",
       "    </tr>\n",
       "    <tr>\n",
       "      <td>5586</td>\n",
       "      <td>2020-03-06</td>\n",
       "      <td>1</td>\n",
       "    </tr>\n",
       "    <tr>\n",
       "      <td>5587</td>\n",
       "      <td>2020-03-22</td>\n",
       "      <td>3</td>\n",
       "    </tr>\n",
       "    <tr>\n",
       "      <td>5588</td>\n",
       "      <td>2020-03-25</td>\n",
       "      <td>4</td>\n",
       "    </tr>\n",
       "    <tr>\n",
       "      <td>5589</td>\n",
       "      <td>2020-03-26</td>\n",
       "      <td>14</td>\n",
       "    </tr>\n",
       "    <tr>\n",
       "      <td>5590</td>\n",
       "      <td>2020-03-27</td>\n",
       "      <td>14</td>\n",
       "    </tr>\n",
       "    <tr>\n",
       "      <td>5591</td>\n",
       "      <td>2020-04-04</td>\n",
       "      <td>2</td>\n",
       "    </tr>\n",
       "    <tr>\n",
       "      <td>5592</td>\n",
       "      <td>2020-04-05</td>\n",
       "      <td>4</td>\n",
       "    </tr>\n",
       "    <tr>\n",
       "      <td>5593</td>\n",
       "      <td>2020-04-07</td>\n",
       "      <td>2</td>\n",
       "    </tr>\n",
       "    <tr>\n",
       "      <td>5594</td>\n",
       "      <td>2020-04-08</td>\n",
       "      <td>1</td>\n",
       "    </tr>\n",
       "    <tr>\n",
       "      <td>5595</td>\n",
       "      <td>2020-04-09</td>\n",
       "      <td>2</td>\n",
       "    </tr>\n",
       "    <tr>\n",
       "      <td>5596</td>\n",
       "      <td>2020-04-12</td>\n",
       "      <td>6</td>\n",
       "    </tr>\n",
       "    <tr>\n",
       "      <td>5597</td>\n",
       "      <td>2020-05-22</td>\n",
       "      <td>1</td>\n",
       "    </tr>\n",
       "    <tr>\n",
       "      <td>5598</td>\n",
       "      <td>2020-06-20</td>\n",
       "      <td>1</td>\n",
       "    </tr>\n",
       "    <tr>\n",
       "      <td>5599</td>\n",
       "      <td>2020-06-24</td>\n",
       "      <td>1</td>\n",
       "    </tr>\n",
       "    <tr>\n",
       "      <td>5600</td>\n",
       "      <td>2020-06-26</td>\n",
       "      <td>1</td>\n",
       "    </tr>\n",
       "    <tr>\n",
       "      <td>5601</td>\n",
       "      <td>2020-06-27</td>\n",
       "      <td>1</td>\n",
       "    </tr>\n",
       "    <tr>\n",
       "      <td>5602</td>\n",
       "      <td>2020-07-01</td>\n",
       "      <td>1</td>\n",
       "    </tr>\n",
       "    <tr>\n",
       "      <td>5603</td>\n",
       "      <td>2020-07-02</td>\n",
       "      <td>1</td>\n",
       "    </tr>\n",
       "    <tr>\n",
       "      <td>5604</td>\n",
       "      <td>2020-07-04</td>\n",
       "      <td>1</td>\n",
       "    </tr>\n",
       "    <tr>\n",
       "      <td>5605</td>\n",
       "      <td>2020-08-04</td>\n",
       "      <td>2</td>\n",
       "    </tr>\n",
       "    <tr>\n",
       "      <td>5606</td>\n",
       "      <td>2020-08-07</td>\n",
       "      <td>1</td>\n",
       "    </tr>\n",
       "    <tr>\n",
       "      <td>5607</td>\n",
       "      <td>2020-08-09</td>\n",
       "      <td>1</td>\n",
       "    </tr>\n",
       "  </tbody>\n",
       "</table>\n",
       "</div>"
      ],
      "text/plain": [
       "             ds   y\n",
       "5566 2019-07-02   4\n",
       "5567 2019-07-04   1\n",
       "5568 2019-07-05   1\n",
       "5569 2019-07-06   2\n",
       "5570 2019-07-08   2\n",
       "5571 2019-07-21   2\n",
       "5572 2019-08-01   1\n",
       "5573 2019-08-02   2\n",
       "5574 2019-08-07   1\n",
       "5575 2019-09-06   2\n",
       "5576 2019-09-13   1\n",
       "5577 2019-09-14   1\n",
       "5578 2019-09-18   1\n",
       "5579 2019-09-23   2\n",
       "5580 2019-10-11   1\n",
       "5581 2019-10-23   1\n",
       "5582 2019-10-25   1\n",
       "5583 2019-10-26   5\n",
       "5584 2019-11-07  10\n",
       "5585 2019-11-17   1\n",
       "5586 2020-03-06   1\n",
       "5587 2020-03-22   3\n",
       "5588 2020-03-25   4\n",
       "5589 2020-03-26  14\n",
       "5590 2020-03-27  14\n",
       "5591 2020-04-04   2\n",
       "5592 2020-04-05   4\n",
       "5593 2020-04-07   2\n",
       "5594 2020-04-08   1\n",
       "5595 2020-04-09   2\n",
       "5596 2020-04-12   6\n",
       "5597 2020-05-22   1\n",
       "5598 2020-06-20   1\n",
       "5599 2020-06-24   1\n",
       "5600 2020-06-26   1\n",
       "5601 2020-06-27   1\n",
       "5602 2020-07-01   1\n",
       "5603 2020-07-02   1\n",
       "5604 2020-07-04   1\n",
       "5605 2020-08-04   2\n",
       "5606 2020-08-07   1\n",
       "5607 2020-08-09   1"
      ]
     },
     "execution_count": 64,
     "metadata": {},
     "output_type": "execute_result"
    }
   ],
   "source": [
    "forecast_prophet = pd.DataFrame({'ds': ds, 'y': y})\n",
    "forecast_prophet.tail(42)"
   ]
  },
  {
   "cell_type": "code",
   "execution_count": 63,
   "metadata": {},
   "outputs": [
    {
     "data": {
      "text/html": [
       "<div>\n",
       "<style scoped>\n",
       "    .dataframe tbody tr th:only-of-type {\n",
       "        vertical-align: middle;\n",
       "    }\n",
       "\n",
       "    .dataframe tbody tr th {\n",
       "        vertical-align: top;\n",
       "    }\n",
       "\n",
       "    .dataframe thead th {\n",
       "        text-align: right;\n",
       "    }\n",
       "</style>\n",
       "<table border=\"1\" class=\"dataframe\">\n",
       "  <thead>\n",
       "    <tr style=\"text-align: right;\">\n",
       "      <th></th>\n",
       "      <th>ds</th>\n",
       "      <th>y</th>\n",
       "    </tr>\n",
       "  </thead>\n",
       "  <tbody>\n",
       "    <tr>\n",
       "      <td>0</td>\n",
       "      <td>2017-08-11</td>\n",
       "      <td>3</td>\n",
       "    </tr>\n",
       "    <tr>\n",
       "      <td>1</td>\n",
       "      <td>2017-08-15</td>\n",
       "      <td>4</td>\n",
       "    </tr>\n",
       "    <tr>\n",
       "      <td>2</td>\n",
       "      <td>2017-08-16</td>\n",
       "      <td>4</td>\n",
       "    </tr>\n",
       "    <tr>\n",
       "      <td>3</td>\n",
       "      <td>2017-08-23</td>\n",
       "      <td>1</td>\n",
       "    </tr>\n",
       "    <tr>\n",
       "      <td>4</td>\n",
       "      <td>2017-08-25</td>\n",
       "      <td>1</td>\n",
       "    </tr>\n",
       "    <tr>\n",
       "      <td>...</td>\n",
       "      <td>...</td>\n",
       "      <td>...</td>\n",
       "    </tr>\n",
       "    <tr>\n",
       "      <td>5561</td>\n",
       "      <td>2019-06-25</td>\n",
       "      <td>44</td>\n",
       "    </tr>\n",
       "    <tr>\n",
       "      <td>5562</td>\n",
       "      <td>2019-06-28</td>\n",
       "      <td>7</td>\n",
       "    </tr>\n",
       "    <tr>\n",
       "      <td>5563</td>\n",
       "      <td>2019-06-29</td>\n",
       "      <td>9</td>\n",
       "    </tr>\n",
       "    <tr>\n",
       "      <td>5564</td>\n",
       "      <td>2019-06-30</td>\n",
       "      <td>4</td>\n",
       "    </tr>\n",
       "    <tr>\n",
       "      <td>5565</td>\n",
       "      <td>2019-07-01</td>\n",
       "      <td>2</td>\n",
       "    </tr>\n",
       "  </tbody>\n",
       "</table>\n",
       "<p>5566 rows × 2 columns</p>\n",
       "</div>"
      ],
      "text/plain": [
       "             ds   y\n",
       "0    2017-08-11   3\n",
       "1    2017-08-15   4\n",
       "2    2017-08-16   4\n",
       "3    2017-08-23   1\n",
       "4    2017-08-25   1\n",
       "...         ...  ..\n",
       "5561 2019-06-25  44\n",
       "5562 2019-06-28   7\n",
       "5563 2019-06-29   9\n",
       "5564 2019-06-30   4\n",
       "5565 2019-07-01   2\n",
       "\n",
       "[5566 rows x 2 columns]"
      ]
     },
     "execution_count": 63,
     "metadata": {},
     "output_type": "execute_result"
    }
   ],
   "source": [
    "forecast_prophet = forecast_prophet[:-predictions]\n",
    "forecast_prophet"
   ]
  },
  {
   "cell_type": "code",
   "execution_count": 17,
   "metadata": {},
   "outputs": [
    {
     "name": "stderr",
     "output_type": "stream",
     "text": [
      "INFO:numexpr.utils:NumExpr defaulting to 8 threads.\n"
     ]
    },
    {
     "data": {
      "text/plain": [
       "<fbprophet.forecaster.Prophet at 0x275d3181348>"
      ]
     },
     "execution_count": 17,
     "metadata": {},
     "output_type": "execute_result"
    }
   ],
   "source": [
    "model = Prophet(weekly_seasonality=True, daily_seasonality=False)\n",
    "model.add_country_holidays(country_name='RU')\n",
    "model.fit(forecast_prophet)"
   ]
  },
  {
   "cell_type": "code",
   "execution_count": 18,
   "metadata": {},
   "outputs": [
    {
     "data": {
      "text/plain": [
       "0                    New Year's Day\n",
       "1            Orthodox Christmas Day\n",
       "2                     Christmas Day\n",
       "3    Defender of the Fatherland Day\n",
       "4         International Women's Day\n",
       "5                 National Flag Day\n",
       "6             Spring and Labour Day\n",
       "7                       Victory Day\n",
       "8                        Russia Day\n",
       "9                         Unity Day\n",
       "dtype: object"
      ]
     },
     "execution_count": 18,
     "metadata": {},
     "output_type": "execute_result"
    }
   ],
   "source": [
    "model.train_holiday_names"
   ]
  },
  {
   "cell_type": "code",
   "execution_count": 19,
   "metadata": {},
   "outputs": [
    {
     "data": {
      "text/html": [
       "<div>\n",
       "<style scoped>\n",
       "    .dataframe tbody tr th:only-of-type {\n",
       "        vertical-align: middle;\n",
       "    }\n",
       "\n",
       "    .dataframe tbody tr th {\n",
       "        vertical-align: top;\n",
       "    }\n",
       "\n",
       "    .dataframe thead th {\n",
       "        text-align: right;\n",
       "    }\n",
       "</style>\n",
       "<table border=\"1\" class=\"dataframe\">\n",
       "  <thead>\n",
       "    <tr style=\"text-align: right;\">\n",
       "      <th></th>\n",
       "      <th>ds</th>\n",
       "    </tr>\n",
       "  </thead>\n",
       "  <tbody>\n",
       "    <tr>\n",
       "      <td>0</td>\n",
       "      <td>2017-08-10</td>\n",
       "    </tr>\n",
       "    <tr>\n",
       "      <td>1</td>\n",
       "      <td>2017-08-10</td>\n",
       "    </tr>\n",
       "    <tr>\n",
       "      <td>2</td>\n",
       "      <td>2017-08-10</td>\n",
       "    </tr>\n",
       "    <tr>\n",
       "      <td>3</td>\n",
       "      <td>2017-08-10</td>\n",
       "    </tr>\n",
       "    <tr>\n",
       "      <td>4</td>\n",
       "      <td>2017-08-10</td>\n",
       "    </tr>\n",
       "  </tbody>\n",
       "</table>\n",
       "</div>"
      ],
      "text/plain": [
       "          ds\n",
       "0 2017-08-10\n",
       "1 2017-08-10\n",
       "2 2017-08-10\n",
       "3 2017-08-10\n",
       "4 2017-08-10"
      ]
     },
     "execution_count": 19,
     "metadata": {},
     "output_type": "execute_result"
    }
   ],
   "source": [
    "future = model.make_future_dataframe(periods=24, freq='W')\n",
    "future.head()"
   ]
  },
  {
   "cell_type": "code",
   "execution_count": 20,
   "metadata": {},
   "outputs": [
    {
     "data": {
      "text/html": [
       "<div>\n",
       "<style scoped>\n",
       "    .dataframe tbody tr th:only-of-type {\n",
       "        vertical-align: middle;\n",
       "    }\n",
       "\n",
       "    .dataframe tbody tr th {\n",
       "        vertical-align: top;\n",
       "    }\n",
       "\n",
       "    .dataframe thead th {\n",
       "        text-align: right;\n",
       "    }\n",
       "</style>\n",
       "<table border=\"1\" class=\"dataframe\">\n",
       "  <thead>\n",
       "    <tr style=\"text-align: right;\">\n",
       "      <th></th>\n",
       "      <th>ds</th>\n",
       "      <th>yhat</th>\n",
       "      <th>yhat_lower</th>\n",
       "      <th>yhat_upper</th>\n",
       "    </tr>\n",
       "  </thead>\n",
       "  <tbody>\n",
       "    <tr>\n",
       "      <td>5627</td>\n",
       "      <td>2020-12-27</td>\n",
       "      <td>1.632907</td>\n",
       "      <td>-1.289730</td>\n",
       "      <td>4.589275</td>\n",
       "    </tr>\n",
       "    <tr>\n",
       "      <td>5628</td>\n",
       "      <td>2021-01-03</td>\n",
       "      <td>1.535747</td>\n",
       "      <td>-1.297416</td>\n",
       "      <td>4.573500</td>\n",
       "    </tr>\n",
       "    <tr>\n",
       "      <td>5629</td>\n",
       "      <td>2021-01-10</td>\n",
       "      <td>1.452003</td>\n",
       "      <td>-1.397209</td>\n",
       "      <td>4.335912</td>\n",
       "    </tr>\n",
       "    <tr>\n",
       "      <td>5630</td>\n",
       "      <td>2021-01-17</td>\n",
       "      <td>1.478755</td>\n",
       "      <td>-1.395384</td>\n",
       "      <td>4.421804</td>\n",
       "    </tr>\n",
       "    <tr>\n",
       "      <td>5631</td>\n",
       "      <td>2021-01-24</td>\n",
       "      <td>1.568664</td>\n",
       "      <td>-1.503177</td>\n",
       "      <td>4.513540</td>\n",
       "    </tr>\n",
       "  </tbody>\n",
       "</table>\n",
       "</div>"
      ],
      "text/plain": [
       "             ds      yhat  yhat_lower  yhat_upper\n",
       "5627 2020-12-27  1.632907   -1.289730    4.589275\n",
       "5628 2021-01-03  1.535747   -1.297416    4.573500\n",
       "5629 2021-01-10  1.452003   -1.397209    4.335912\n",
       "5630 2021-01-17  1.478755   -1.395384    4.421804\n",
       "5631 2021-01-24  1.568664   -1.503177    4.513540"
      ]
     },
     "execution_count": 20,
     "metadata": {},
     "output_type": "execute_result"
    }
   ],
   "source": [
    "forecast = model.predict(future)\n",
    "forecast[['ds', 'yhat', 'yhat_lower', 'yhat_upper']].tail()"
   ]
  },
  {
   "cell_type": "code",
   "execution_count": 21,
   "metadata": {},
   "outputs": [
    {
     "data": {
      "image/png": "[encoded data removed]",
      "text/plain": [
       "<Figure size 720x432 with 1 Axes>"
      ]
     },
     "metadata": {},
     "output_type": "display_data"
    }
   ],
   "source": [
    "from fbprophet.plot import add_changepoints_to_plot\n",
    "fig3 = model.plot(forecast)\n",
    "a = add_changepoints_to_plot(fig3.gca(), model, forecast)\n"
   ]
  },
  {
   "cell_type": "code",
   "execution_count": 22,
   "metadata": {},
   "outputs": [
    {
     "data": {
      "image/png": "[encoded data removed]",
      "text/plain": [
       "<Figure size 648x864 with 4 Axes>"
      ]
     },
     "execution_count": 22,
     "metadata": {},
     "output_type": "execute_result"
    },
    {
     "data": {
      "image/png": "[encoded data removed]",
      "text/plain": [
       "<Figure size 648x864 with 4 Axes>"
      ]
     },
     "metadata": {},
     "output_type": "display_data"
    }
   ],
   "source": [
    "model.plot_components(forecast)"
   ]
  }
 ],
 "metadata": {
  "kernelspec": {
   "display_name": "Python 3",
   "language": "python",
   "name": "python3"
  },
  "language_info": {
   "codemirror_mode": {
    "name": "ipython",
    "version": 3
   },
   "file_extension": ".py",
   "mimetype": "text/x-python",
   "name": "python",
   "nbconvert_exporter": "python",
   "pygments_lexer": "ipython3",
   "version": "3.7.4"
  }
 },
 "nbformat": 4,
 "nbformat_minor": 2
}
