{
 "cells": [
  {
   "cell_type": "markdown",
   "metadata": {},
   "source": [
    "# <center> Оценка связи спроса на товары в группе\n"
   ]
  },
  {
   "cell_type": "code",
   "execution_count": 155,
   "metadata": {},
   "outputs": [],
   "source": [
    "import numpy as np\n",
    "import pandas as pd\n",
    "from warnings import filterwarnings\n",
    "filterwarnings('ignore')\n",
    "import matplotlib.pyplot as plt\n",
    "%matplotlib inline\n",
    "\n",
    "import json"
   ]
  },
  {
   "cell_type": "markdown",
   "metadata": {},
   "source": [
    "## Загрузка и обработка данных"
   ]
  },
  {
   "cell_type": "code",
   "execution_count": 156,
   "metadata": {},
   "outputs": [],
   "source": [
    "data = pd.read_excel(\"q011.xlsx\")"
   ]
  },
  {
   "cell_type": "code",
   "execution_count": 157,
   "metadata": {},
   "outputs": [
    {
     "data": {
      "text/html": [
       "<div>\n",
       "<style scoped>\n",
       "    .dataframe tbody tr th:only-of-type {\n",
       "        vertical-align: middle;\n",
       "    }\n",
       "\n",
       "    .dataframe tbody tr th {\n",
       "        vertical-align: top;\n",
       "    }\n",
       "\n",
       "    .dataframe thead th {\n",
       "        text-align: right;\n",
       "    }\n",
       "</style>\n",
       "<table border=\"1\" class=\"dataframe\">\n",
       "  <thead>\n",
       "    <tr style=\"text-align: right;\">\n",
       "      <th></th>\n",
       "      <th>Код склада</th>\n",
       "      <th>Название склада</th>\n",
       "      <th>Дата</th>\n",
       "      <th>Код гр.</th>\n",
       "      <th>Название гр.</th>\n",
       "      <th>Код товара</th>\n",
       "      <th>1 наименование</th>\n",
       "      <th>2 наименование</th>\n",
       "      <th>кол-во</th>\n",
       "      <th>Сумма в пр.ценах</th>\n",
       "      <th>Сумма в ср. зак</th>\n",
       "      <th>Сумма в баз. Ценах</th>\n",
       "      <th>Стоимость одной штуки</th>\n",
       "    </tr>\n",
       "  </thead>\n",
       "  <tbody>\n",
       "    <tr>\n",
       "      <td>0</td>\n",
       "      <td>E</td>\n",
       "      <td>Б Грузино хоз</td>\n",
       "      <td>2017-08-10</td>\n",
       "      <td>Q01</td>\n",
       "      <td>Бытовая химия</td>\n",
       "      <td>23332850</td>\n",
       "      <td>Паста зубная Splat prof ультракомплекс 1</td>\n",
       "      <td>Паста зубная Splat prof ультракомплекс 100мл</td>\n",
       "      <td>1</td>\n",
       "      <td>154.0</td>\n",
       "      <td>109.51</td>\n",
       "      <td>159.0</td>\n",
       "      <td>159.0</td>\n",
       "    </tr>\n",
       "    <tr>\n",
       "      <td>1</td>\n",
       "      <td>E</td>\n",
       "      <td>Б Грузино хоз</td>\n",
       "      <td>2017-08-10</td>\n",
       "      <td>Q01</td>\n",
       "      <td>Бытовая химия</td>\n",
       "      <td>23595712</td>\n",
       "      <td>Щетка зубная Splat COMPLETE Soft для Ком</td>\n",
       "      <td>Щетка зубная Splat COMPLETE Soft для Комплексн...</td>\n",
       "      <td>1</td>\n",
       "      <td>174.0</td>\n",
       "      <td>116.21</td>\n",
       "      <td>179.0</td>\n",
       "      <td>179.0</td>\n",
       "    </tr>\n",
       "    <tr>\n",
       "      <td>2</td>\n",
       "      <td>E</td>\n",
       "      <td>Б Грузино хоз</td>\n",
       "      <td>2017-08-10</td>\n",
       "      <td>Q01</td>\n",
       "      <td>Бытовая химия</td>\n",
       "      <td>23668331</td>\n",
       "      <td>Паста зубная BLEND-A-MED ProExpert Все в</td>\n",
       "      <td>Паста зубная BLEND-A-MED ProExpert Все в одном...</td>\n",
       "      <td>1</td>\n",
       "      <td>169.0</td>\n",
       "      <td>114.72</td>\n",
       "      <td>169.0</td>\n",
       "      <td>169.0</td>\n",
       "    </tr>\n",
       "    <tr>\n",
       "      <td>3</td>\n",
       "      <td>E</td>\n",
       "      <td>Б Грузино хоз</td>\n",
       "      <td>2017-08-10</td>\n",
       "      <td>Q01</td>\n",
       "      <td>Бытовая химия</td>\n",
       "      <td>23782174</td>\n",
       "      <td>Прокладки гигиенические NATURELLA Camomi</td>\n",
       "      <td>Прокладки гигиенические NATURELLA Camomile Nor...</td>\n",
       "      <td>1</td>\n",
       "      <td>180.0</td>\n",
       "      <td>134.91</td>\n",
       "      <td>189.0</td>\n",
       "      <td>189.0</td>\n",
       "    </tr>\n",
       "    <tr>\n",
       "      <td>4</td>\n",
       "      <td>E</td>\n",
       "      <td>Б Грузино хоз</td>\n",
       "      <td>2017-08-10</td>\n",
       "      <td>Q01</td>\n",
       "      <td>Бытовая химия</td>\n",
       "      <td>23830790</td>\n",
       "      <td>Средство для мытья посуды 'Help' Бальзам</td>\n",
       "      <td>Средство для мытья посуды 'Help' Бальзам Лимон...</td>\n",
       "      <td>1</td>\n",
       "      <td>74.0</td>\n",
       "      <td>46.67</td>\n",
       "      <td>75.0</td>\n",
       "      <td>75.0</td>\n",
       "    </tr>\n",
       "  </tbody>\n",
       "</table>\n",
       "</div>"
      ],
      "text/plain": [
       "  Код склада Название склада       Дата Код гр.   Название гр.  Код товара  \\\n",
       "0          E   Б Грузино хоз 2017-08-10     Q01  Бытовая химия    23332850   \n",
       "1          E   Б Грузино хоз 2017-08-10     Q01  Бытовая химия    23595712   \n",
       "2          E   Б Грузино хоз 2017-08-10     Q01  Бытовая химия    23668331   \n",
       "3          E   Б Грузино хоз 2017-08-10     Q01  Бытовая химия    23782174   \n",
       "4          E   Б Грузино хоз 2017-08-10     Q01  Бытовая химия    23830790   \n",
       "\n",
       "                             1 наименование  \\\n",
       "0  Паста зубная Splat prof ультракомплекс 1   \n",
       "1  Щетка зубная Splat COMPLETE Soft для Ком   \n",
       "2  Паста зубная BLEND-A-MED ProExpert Все в   \n",
       "3  Прокладки гигиенические NATURELLA Camomi   \n",
       "4  Средство для мытья посуды 'Help' Бальзам   \n",
       "\n",
       "                                      2 наименование  кол-во  \\\n",
       "0       Паста зубная Splat prof ультракомплекс 100мл       1   \n",
       "1  Щетка зубная Splat COMPLETE Soft для Комплексн...       1   \n",
       "2  Паста зубная BLEND-A-MED ProExpert Все в одном...       1   \n",
       "3  Прокладки гигиенические NATURELLA Camomile Nor...       1   \n",
       "4  Средство для мытья посуды 'Help' Бальзам Лимон...       1   \n",
       "\n",
       "   Сумма в пр.ценах  Сумма в ср. зак  Сумма в баз. Ценах  \\\n",
       "0             154.0           109.51               159.0   \n",
       "1             174.0           116.21               179.0   \n",
       "2             169.0           114.72               169.0   \n",
       "3             180.0           134.91               189.0   \n",
       "4              74.0            46.67                75.0   \n",
       "\n",
       "   Стоимость одной штуки  \n",
       "0                  159.0  \n",
       "1                  179.0  \n",
       "2                  169.0  \n",
       "3                  189.0  \n",
       "4                   75.0  "
      ]
     },
     "execution_count": 157,
     "metadata": {},
     "output_type": "execute_result"
    }
   ],
   "source": [
    "data.head()"
   ]
  },
  {
   "cell_type": "markdown",
   "metadata": {},
   "source": [
    "### Переименование названий стоблцов\n",
    "\n",
    "Будем иcпользовать имена из латинского алфавита, записанные в <b> snake_case</b>."
   ]
  },
  {
   "cell_type": "code",
   "execution_count": 158,
   "metadata": {},
   "outputs": [
    {
     "data": {
      "text/plain": [
       "Index(['Код склада', 'Название склада', 'Дата', 'Код гр.', 'Название гр.',\n",
       "       'Код товара', '1 наименование', '2 наименование', 'кол-во',\n",
       "       'Сумма в пр.ценах', 'Сумма в ср. зак', 'Сумма в баз. Ценах',\n",
       "       'Стоимость одной штуки'],\n",
       "      dtype='object')"
      ]
     },
     "execution_count": 158,
     "metadata": {},
     "output_type": "execute_result"
    }
   ],
   "source": [
    "data.columns"
   ]
  },
  {
   "cell_type": "code",
   "execution_count": 159,
   "metadata": {},
   "outputs": [],
   "source": [
    "new_columns = ['depo_code', 'depo_name', 'date', 'group_code', 'group_name', 'code', 'name_1', 'name_2', 'quantity', 'income', 'profit_1', 'profit_2', 'price']"
   ]
  },
  {
   "cell_type": "code",
   "execution_count": 160,
   "metadata": {},
   "outputs": [
    {
     "data": {
      "text/plain": [
       "{'Код склада': 'depo_code',\n",
       " 'Название склада': 'depo_name',\n",
       " 'Дата': 'date',\n",
       " 'Код гр.': 'group_code',\n",
       " 'Название гр.': 'group_name',\n",
       " 'Код товара': 'code',\n",
       " '1 наименование': 'name_1',\n",
       " '2 наименование': 'name_2',\n",
       " 'кол-во': 'quantity',\n",
       " 'Сумма в пр.ценах': 'income',\n",
       " 'Сумма в ср. зак': 'profit_1',\n",
       " 'Сумма в баз. Ценах': 'profit_2',\n",
       " 'Стоимость одной штуки': 'price'}"
      ]
     },
     "execution_count": 160,
     "metadata": {},
     "output_type": "execute_result"
    }
   ],
   "source": [
    "new_columns_dict = dict(list(zip(data.columns, new_columns)))\n",
    "new_columns_dict"
   ]
  },
  {
   "cell_type": "code",
   "execution_count": 161,
   "metadata": {},
   "outputs": [],
   "source": [
    "data.columns = new_columns"
   ]
  },
  {
   "cell_type": "code",
   "execution_count": 162,
   "metadata": {},
   "outputs": [
    {
     "data": {
      "text/html": [
       "<div>\n",
       "<style scoped>\n",
       "    .dataframe tbody tr th:only-of-type {\n",
       "        vertical-align: middle;\n",
       "    }\n",
       "\n",
       "    .dataframe tbody tr th {\n",
       "        vertical-align: top;\n",
       "    }\n",
       "\n",
       "    .dataframe thead th {\n",
       "        text-align: right;\n",
       "    }\n",
       "</style>\n",
       "<table border=\"1\" class=\"dataframe\">\n",
       "  <thead>\n",
       "    <tr style=\"text-align: right;\">\n",
       "      <th></th>\n",
       "      <th>depo_code</th>\n",
       "      <th>depo_name</th>\n",
       "      <th>date</th>\n",
       "      <th>group_code</th>\n",
       "      <th>group_name</th>\n",
       "      <th>code</th>\n",
       "      <th>name_1</th>\n",
       "      <th>name_2</th>\n",
       "      <th>quantity</th>\n",
       "      <th>income</th>\n",
       "      <th>profit_1</th>\n",
       "      <th>profit_2</th>\n",
       "      <th>price</th>\n",
       "    </tr>\n",
       "  </thead>\n",
       "  <tbody>\n",
       "    <tr>\n",
       "      <td>0</td>\n",
       "      <td>E</td>\n",
       "      <td>Б Грузино хоз</td>\n",
       "      <td>2017-08-10</td>\n",
       "      <td>Q01</td>\n",
       "      <td>Бытовая химия</td>\n",
       "      <td>23332850</td>\n",
       "      <td>Паста зубная Splat prof ультракомплекс 1</td>\n",
       "      <td>Паста зубная Splat prof ультракомплекс 100мл</td>\n",
       "      <td>1</td>\n",
       "      <td>154.0</td>\n",
       "      <td>109.51</td>\n",
       "      <td>159.0</td>\n",
       "      <td>159.0</td>\n",
       "    </tr>\n",
       "    <tr>\n",
       "      <td>1</td>\n",
       "      <td>E</td>\n",
       "      <td>Б Грузино хоз</td>\n",
       "      <td>2017-08-10</td>\n",
       "      <td>Q01</td>\n",
       "      <td>Бытовая химия</td>\n",
       "      <td>23595712</td>\n",
       "      <td>Щетка зубная Splat COMPLETE Soft для Ком</td>\n",
       "      <td>Щетка зубная Splat COMPLETE Soft для Комплексн...</td>\n",
       "      <td>1</td>\n",
       "      <td>174.0</td>\n",
       "      <td>116.21</td>\n",
       "      <td>179.0</td>\n",
       "      <td>179.0</td>\n",
       "    </tr>\n",
       "  </tbody>\n",
       "</table>\n",
       "</div>"
      ],
      "text/plain": [
       "  depo_code      depo_name       date group_code     group_name      code  \\\n",
       "0         E  Б Грузино хоз 2017-08-10        Q01  Бытовая химия  23332850   \n",
       "1         E  Б Грузино хоз 2017-08-10        Q01  Бытовая химия  23595712   \n",
       "\n",
       "                                     name_1  \\\n",
       "0  Паста зубная Splat prof ультракомплекс 1   \n",
       "1  Щетка зубная Splat COMPLETE Soft для Ком   \n",
       "\n",
       "                                              name_2  quantity  income  \\\n",
       "0       Паста зубная Splat prof ультракомплекс 100мл         1   154.0   \n",
       "1  Щетка зубная Splat COMPLETE Soft для Комплексн...         1   174.0   \n",
       "\n",
       "   profit_1  profit_2  price  \n",
       "0    109.51     159.0  159.0  \n",
       "1    116.21     179.0  179.0  "
      ]
     },
     "execution_count": 162,
     "metadata": {},
     "output_type": "execute_result"
    }
   ],
   "source": [
    "data.head(2)"
   ]
  },
  {
   "cell_type": "markdown",
   "metadata": {},
   "source": [
    "## Группировка данных о товарах"
   ]
  },
  {
   "cell_type": "code",
   "execution_count": 163,
   "metadata": {},
   "outputs": [
    {
     "data": {
      "text/plain": [
       "array(['Q01'], dtype=object)"
      ]
     },
     "execution_count": 163,
     "metadata": {},
     "output_type": "execute_result"
    }
   ],
   "source": [
    "data.group_code.unique() # одна группа"
   ]
  },
  {
   "cell_type": "code",
   "execution_count": 164,
   "metadata": {},
   "outputs": [
    {
     "data": {
      "text/plain": [
       "(1870,)"
      ]
     },
     "execution_count": 164,
     "metadata": {},
     "output_type": "execute_result"
    }
   ],
   "source": [
    "data.code.unique().shape # 1886 уникальных товаров в группе"
   ]
  },
  {
   "cell_type": "markdown",
   "metadata": {},
   "source": [
    "Воспользуемся вспомогательной функцией, описание в файле <b> Week-Month-Series</b>."
   ]
  },
  {
   "cell_type": "code",
   "execution_count": 165,
   "metadata": {},
   "outputs": [],
   "source": [
    "def addYearWeekDay(df, timestamp = ['year', 'week']): \n",
    "    try:\n",
    "        if 'year' in timestamp:\n",
    "            df['year'] = list(list(map(lambda x: x.year, df.date)))\n",
    "        if 'week' in timestamp:\n",
    "            df['week'] = list(list(map(lambda x: x.week, df.date)))\n",
    "        if 'day' in timestamp:\n",
    "            df['day'] = list(list(map(lambda x: x.day, df.date)))\n",
    "        if 'month' in timestamp:\n",
    "            df['month'] = list(list(map(lambda x: x.month, df.date)))\n",
    "    except:\n",
    "        print('Expected date column in df')\n",
    "    return df\n",
    "# Эта функция вытаскивает из даты год, неделю или день"
   ]
  },
  {
   "cell_type": "code",
   "execution_count": 166,
   "metadata": {},
   "outputs": [],
   "source": [
    "data1=addYearWeekDay(data, timestamp = ['year', 'month'])"
   ]
  },
  {
   "cell_type": "code",
   "execution_count": 167,
   "metadata": {},
   "outputs": [
    {
     "data": {
      "text/html": [
       "<div>\n",
       "<style scoped>\n",
       "    .dataframe tbody tr th:only-of-type {\n",
       "        vertical-align: middle;\n",
       "    }\n",
       "\n",
       "    .dataframe tbody tr th {\n",
       "        vertical-align: top;\n",
       "    }\n",
       "\n",
       "    .dataframe thead th {\n",
       "        text-align: right;\n",
       "    }\n",
       "</style>\n",
       "<table border=\"1\" class=\"dataframe\">\n",
       "  <thead>\n",
       "    <tr style=\"text-align: right;\">\n",
       "      <th></th>\n",
       "      <th>depo_code</th>\n",
       "      <th>depo_name</th>\n",
       "      <th>date</th>\n",
       "      <th>group_code</th>\n",
       "      <th>group_name</th>\n",
       "      <th>code</th>\n",
       "      <th>name_1</th>\n",
       "      <th>name_2</th>\n",
       "      <th>quantity</th>\n",
       "      <th>income</th>\n",
       "      <th>profit_1</th>\n",
       "      <th>profit_2</th>\n",
       "      <th>price</th>\n",
       "      <th>year</th>\n",
       "      <th>month</th>\n",
       "    </tr>\n",
       "  </thead>\n",
       "  <tbody>\n",
       "    <tr>\n",
       "      <td>0</td>\n",
       "      <td>E</td>\n",
       "      <td>Б Грузино хоз</td>\n",
       "      <td>2017-08-10</td>\n",
       "      <td>Q01</td>\n",
       "      <td>Бытовая химия</td>\n",
       "      <td>23332850</td>\n",
       "      <td>Паста зубная Splat prof ультракомплекс 1</td>\n",
       "      <td>Паста зубная Splat prof ультракомплекс 100мл</td>\n",
       "      <td>1</td>\n",
       "      <td>154.0</td>\n",
       "      <td>109.51</td>\n",
       "      <td>159.0</td>\n",
       "      <td>159.0</td>\n",
       "      <td>2017</td>\n",
       "      <td>8</td>\n",
       "    </tr>\n",
       "    <tr>\n",
       "      <td>1</td>\n",
       "      <td>E</td>\n",
       "      <td>Б Грузино хоз</td>\n",
       "      <td>2017-08-10</td>\n",
       "      <td>Q01</td>\n",
       "      <td>Бытовая химия</td>\n",
       "      <td>23595712</td>\n",
       "      <td>Щетка зубная Splat COMPLETE Soft для Ком</td>\n",
       "      <td>Щетка зубная Splat COMPLETE Soft для Комплексн...</td>\n",
       "      <td>1</td>\n",
       "      <td>174.0</td>\n",
       "      <td>116.21</td>\n",
       "      <td>179.0</td>\n",
       "      <td>179.0</td>\n",
       "      <td>2017</td>\n",
       "      <td>8</td>\n",
       "    </tr>\n",
       "    <tr>\n",
       "      <td>2</td>\n",
       "      <td>E</td>\n",
       "      <td>Б Грузино хоз</td>\n",
       "      <td>2017-08-10</td>\n",
       "      <td>Q01</td>\n",
       "      <td>Бытовая химия</td>\n",
       "      <td>23668331</td>\n",
       "      <td>Паста зубная BLEND-A-MED ProExpert Все в</td>\n",
       "      <td>Паста зубная BLEND-A-MED ProExpert Все в одном...</td>\n",
       "      <td>1</td>\n",
       "      <td>169.0</td>\n",
       "      <td>114.72</td>\n",
       "      <td>169.0</td>\n",
       "      <td>169.0</td>\n",
       "      <td>2017</td>\n",
       "      <td>8</td>\n",
       "    </tr>\n",
       "    <tr>\n",
       "      <td>3</td>\n",
       "      <td>E</td>\n",
       "      <td>Б Грузино хоз</td>\n",
       "      <td>2017-08-10</td>\n",
       "      <td>Q01</td>\n",
       "      <td>Бытовая химия</td>\n",
       "      <td>23782174</td>\n",
       "      <td>Прокладки гигиенические NATURELLA Camomi</td>\n",
       "      <td>Прокладки гигиенические NATURELLA Camomile Nor...</td>\n",
       "      <td>1</td>\n",
       "      <td>180.0</td>\n",
       "      <td>134.91</td>\n",
       "      <td>189.0</td>\n",
       "      <td>189.0</td>\n",
       "      <td>2017</td>\n",
       "      <td>8</td>\n",
       "    </tr>\n",
       "    <tr>\n",
       "      <td>4</td>\n",
       "      <td>E</td>\n",
       "      <td>Б Грузино хоз</td>\n",
       "      <td>2017-08-10</td>\n",
       "      <td>Q01</td>\n",
       "      <td>Бытовая химия</td>\n",
       "      <td>23830790</td>\n",
       "      <td>Средство для мытья посуды 'Help' Бальзам</td>\n",
       "      <td>Средство для мытья посуды 'Help' Бальзам Лимон...</td>\n",
       "      <td>1</td>\n",
       "      <td>74.0</td>\n",
       "      <td>46.67</td>\n",
       "      <td>75.0</td>\n",
       "      <td>75.0</td>\n",
       "      <td>2017</td>\n",
       "      <td>8</td>\n",
       "    </tr>\n",
       "  </tbody>\n",
       "</table>\n",
       "</div>"
      ],
      "text/plain": [
       "  depo_code      depo_name       date group_code     group_name      code  \\\n",
       "0         E  Б Грузино хоз 2017-08-10        Q01  Бытовая химия  23332850   \n",
       "1         E  Б Грузино хоз 2017-08-10        Q01  Бытовая химия  23595712   \n",
       "2         E  Б Грузино хоз 2017-08-10        Q01  Бытовая химия  23668331   \n",
       "3         E  Б Грузино хоз 2017-08-10        Q01  Бытовая химия  23782174   \n",
       "4         E  Б Грузино хоз 2017-08-10        Q01  Бытовая химия  23830790   \n",
       "\n",
       "                                     name_1  \\\n",
       "0  Паста зубная Splat prof ультракомплекс 1   \n",
       "1  Щетка зубная Splat COMPLETE Soft для Ком   \n",
       "2  Паста зубная BLEND-A-MED ProExpert Все в   \n",
       "3  Прокладки гигиенические NATURELLA Camomi   \n",
       "4  Средство для мытья посуды 'Help' Бальзам   \n",
       "\n",
       "                                              name_2  quantity  income  \\\n",
       "0       Паста зубная Splat prof ультракомплекс 100мл         1   154.0   \n",
       "1  Щетка зубная Splat COMPLETE Soft для Комплексн...         1   174.0   \n",
       "2  Паста зубная BLEND-A-MED ProExpert Все в одном...         1   169.0   \n",
       "3  Прокладки гигиенические NATURELLA Camomile Nor...         1   180.0   \n",
       "4  Средство для мытья посуды 'Help' Бальзам Лимон...         1    74.0   \n",
       "\n",
       "   profit_1  profit_2  price  year  month  \n",
       "0    109.51     159.0  159.0  2017      8  \n",
       "1    116.21     179.0  179.0  2017      8  \n",
       "2    114.72     169.0  169.0  2017      8  \n",
       "3    134.91     189.0  189.0  2017      8  \n",
       "4     46.67      75.0   75.0  2017      8  "
      ]
     },
     "execution_count": 167,
     "metadata": {},
     "output_type": "execute_result"
    }
   ],
   "source": [
    "data1.head()"
   ]
  },
  {
   "cell_type": "code",
   "execution_count": 168,
   "metadata": {},
   "outputs": [
    {
     "name": "stdout",
     "output_type": "stream",
     "text": [
      "['depo_code', 'depo_name', 'date', 'group_code', 'group_name', 'code', 'name_1', 'name_2', 'quantity', 'income', 'profit_1', 'profit_2', 'price', 'year', 'month']\n"
     ]
    }
   ],
   "source": [
    "print(data.columns.tolist())"
   ]
  },
  {
   "cell_type": "code",
   "execution_count": 169,
   "metadata": {},
   "outputs": [
    {
     "data": {
      "text/plain": [
       "[(2017, 8),\n",
       " (2017, 9),\n",
       " (2017, 10),\n",
       " (2017, 11),\n",
       " (2017, 12),\n",
       " (2018, 1),\n",
       " (2018, 2),\n",
       " (2018, 3),\n",
       " (2018, 4),\n",
       " (2018, 5),\n",
       " (2018, 6),\n",
       " (2018, 7),\n",
       " (2018, 8),\n",
       " (2018, 9),\n",
       " (2018, 10),\n",
       " (2018, 11),\n",
       " (2018, 12),\n",
       " (2019, 1),\n",
       " (2019, 2),\n",
       " (2019, 3),\n",
       " (2019, 4),\n",
       " (2019, 5),\n",
       " (2019, 6),\n",
       " (2019, 7),\n",
       " (2019, 8),\n",
       " (2019, 9),\n",
       " (2019, 10),\n",
       " (2019, 11),\n",
       " (2019, 12),\n",
       " (2020, 1),\n",
       " (2020, 2),\n",
       " (2020, 3),\n",
       " (2020, 4),\n",
       " (2020, 5),\n",
       " (2020, 6),\n",
       " (2020, 7),\n",
       " (2020, 8)]"
      ]
     },
     "execution_count": 169,
     "metadata": {},
     "output_type": "execute_result"
    }
   ],
   "source": [
    "sorted(data1[data1['code'] == 23591929][['quantity', 'year', 'month']].groupby(['year', 'month']).sum().index)"
   ]
  },
  {
   "cell_type": "markdown",
   "metadata": {},
   "source": [
    "Если группировать данные по неделям, получаем много пропусков в данных. Для оценки взаимосвязи будем использовать группировку <b>по месяцам</b>."
   ]
  },
  {
   "cell_type": "code",
   "execution_count": 170,
   "metadata": {},
   "outputs": [
    {
     "data": {
      "text/plain": [
       "array([26, 24, 15, ...,  4, 21, 10], dtype=int64)"
      ]
     },
     "execution_count": 170,
     "metadata": {},
     "output_type": "execute_result"
    }
   ],
   "source": [
    "data1[['code', 'year', 'month', 'quantity']].groupby(['code', 'year', 'month']).sum().values.reshape(1, -1)[0]"
   ]
  },
  {
   "cell_type": "code",
   "execution_count": 187,
   "metadata": {},
   "outputs": [],
   "source": [
    "corr_data = []\n",
    "corr_codes = []\n",
    "wrong_codes = []\n",
    "for code in list(data1.code.unique()):\n",
    "    data_code = data1[data1['code'] == code][['year', 'month', 'quantity']].groupby(['year', 'month']).sum().values.reshape(1, -1)[0]\n",
    "#     print(data_code.shape)\n",
    "    if data_code.shape[0] == 24:\n",
    "        corr_data.append(data_code)\n",
    "        corr_codes.append(code)\n",
    "    else:\n",
    "        wrong_codes.append(code)\n",
    "#         print(f'Not enougth data code {code}')"
   ]
  },
  {
   "cell_type": "markdown",
   "metadata": {},
   "source": [
    "## Оценка корреляции между спросом на товары в группе"
   ]
  },
  {
   "cell_type": "code",
   "execution_count": 188,
   "metadata": {
    "scrolled": true
   },
   "outputs": [
    {
     "data": {
      "text/plain": [
       "array([[ 18,  10,   9,  11,   4,   3,   3,   2,   6,  10,  10,   7,   5,\n",
       "          4,   3,   1,   1,   3,   2,   1,   3,   3,   3,   2],\n",
       "       [ 14,  13,  21,   7,   9,  13,   9,  16,  21,  16,  27,  13,   5,\n",
       "          3,   5,   5,   1,   1,   1,   1,   1,   2,   1,   1],\n",
       "       [ 64,  43,  39,  38,  21,  27,  19,  24, 103,  43,  65,  26,  22,\n",
       "          4,   5,   2,   4,   3,   1,   8,   1,   8,   5,   2],\n",
       "       [ 42,  44,  37,  24,  21,  24,  14,  25,  22,  36,  31,  30,  30,\n",
       "         21,  22,  12,   1,   1,   1,   5,   4,   1,   1,   1],\n",
       "       [ 11,   8,  23,  16,   9,  12,   8,  10,  11,  24,  14,  20,  15,\n",
       "         16,  16,   9,   9,  13,   9,   6,  12,  17,   2,   3],\n",
       "       [ 24,  16,   4,  11,   7,  14,  11,   8,   9,  16,  13,  11,   8,\n",
       "          3,   3,   3,   7,   4,   5,   2,   3,   2,   1,   3],\n",
       "       [ 16,  21,  21,  16,  31,  18,  12,  13,  26,  24,  29,  19,  22,\n",
       "         14,   9,  13,  12,   6,   4,   5,   8,   1,   1,   1],\n",
       "       [ 24,  41,  32,  44,  29,  24,  26,  24,  29,  23,  26,  16,  17,\n",
       "          7,   4,   2,   4,   2,   3,   2,   3,   1,   1,   2],\n",
       "       [  5,   9,   3,   4,   5,   4,   2,   6,   6,  10,   1,   2,   5,\n",
       "          1,   1,   2,   2,   1,   1,   1,   1,   1,   1,   3],\n",
       "       [ 38,  27,  29,  27,  36,  27,  23,  30,  19,  37,  32,  25,  42,\n",
       "         18,  18,  13,   9,   3,   3,   1,   1,   2,   1,   1],\n",
       "       [  5,   5,   4,   2,   6,   6,   4,   2,   6,   8,   2,   3,   3,\n",
       "          6,   3,   3,   2,   1,   1,   2,   2,   2,   2,   1],\n",
       "       [ 31,  18,  15,  22,  18,  16,  12,  13,  22,  23,  27,  35,  34,\n",
       "         14,  18,   6,  10,   8,   7,   6,   5,   2,   2,   3],\n",
       "       [ 11,  14,  12,   8,   9,   6,   8,   2,   6,   4,   9,   5,   8,\n",
       "          2,   1,   1,   4,   1,   2,   1,   3,   1,   1,   2],\n",
       "       [  1,  34,  28,  23,  21,   9,  25,  56,  52,  50,  44,  56,  52,\n",
       "         40,  38,  28,  11,  15,   8,   4,  13,  12,   4,   4],\n",
       "       [  1,  35,  38,  30,  34,  45,  28,  45,  51,  67,  52,  46,  42,\n",
       "         41,  44,  34,  20,  17,  10,  13,  14,  15,   6,   5],\n",
       "       [  7,  11,  23,  17,  14,   9,  17,  19,  20,  14,  19,  13,  22,\n",
       "         11,  13,  21,  15,  12,  21,  29,  17,  21,  24,   7],\n",
       "       [ 15,  16,   7,   9,  11,  12,   7,  19,  19,  17,  12,  26,  15,\n",
       "          6,  17,  14,  10,   6,  21,  23,  21,  22,  15,   2],\n",
       "       [ 38,  35,  38,  33,  30,  49,  54,  57,  55,  45,  59,  61,  56,\n",
       "         39,  33,  10,  11,   9,  11,   7,   7,   7,   3,   1],\n",
       "       [  4,   5,   5,   3,   9,   1,   3,   5,  14,  18,  15,  15,  15,\n",
       "         11,  15,   8,  11,  10,  44,  51,  41,  35,  29,   4],\n",
       "       [ 36,  33,  17,  27,  24,  19,  20,  25,  34,  32,  62,  27,  30,\n",
       "         21,  20,  19,  17,  14,  14,  28,  48,  43,  32,  24],\n",
       "       [ 26,  24,  15,  19,   4,  18,  10,   7,   6,   9,   8,   8,   7,\n",
       "          6,   1,   2,   1,   1,   1,   1,   1,   3,   2,   2],\n",
       "       [ 12,  21,  19,  16,   8,  11,  11,  15,  12,   9,  13,  10,   9,\n",
       "          3,   6,   2,   2,   1,   2,   5,   1,   1,   2,   2],\n",
       "       [  6,  11,  12,  11,   7,   6,  12,  14,  17,  16,  16,  27,  12,\n",
       "          6,   5,   5,  10,   4,   2,   1,   1,   2,   1,   1],\n",
       "       [  3,   7,   5,   3,   6,   1,   2,   5,   1,   3,   4,   2,   4,\n",
       "          3,   2,   3,   1,   1,  10,   2,   1,   1,   1,   1],\n",
       "       [  2,   6,   7,   7,   2,   5,   3,   5,   5,   5,   8,   7,   4,\n",
       "          3,   3,   2,   1,   2,   1,   1,   3,   1,   1,   1],\n",
       "       [  2,   5,   4,   1,   2,   2,   2,   1,   3,   5,   5,   2,   1,\n",
       "          2,   2,   1,   1,   2,   4,   3,   1,   1,   3,   1],\n",
       "       [  4,  16,  27,  12,  15,  14,  13,  23,  19,  14,  10,  10,   5,\n",
       "          1,   4,   2,   1,   4,   2,   1,   2,   1,   2,   1],\n",
       "       [  1,   2,   3,   3,  10,   1,   4,   5,   2,   1,   4,   2,   3,\n",
       "          5,   7,   4,   3,   7,   6,   5,   1,   1,   2,   1],\n",
       "       [  1,   1,   2,   1,   1,   1,   4,   2,   1,   1,   2,   1,   3,\n",
       "          2,   2,   3,   3,   3,   1,   1,   1,   1,   1,   1],\n",
       "       [ 23,  21,  19,  11,   6,  11,  15,  14,  15,   6,   5,  14,   4,\n",
       "          1,   2,   2,   1,   1,   3,   1,   5,   3,   1,   1],\n",
       "       [  9,   7,   9,   7,   7,   1,   4,   4,   8,   4,   5,  10,   6,\n",
       "          4,   7,   2,   3,   2,   2,   2,   4,   2,   1,   1],\n",
       "       [  4,   6,   5,   4,   3,   2,   4,   2,   4,   6,  11,   3,   8,\n",
       "          3,   1,   2,   7,   2,   6,   2,   2,   1,   1,   1]],\n",
       "      dtype=int64)"
      ]
     },
     "execution_count": 188,
     "metadata": {},
     "output_type": "execute_result"
    }
   ],
   "source": [
    "corr_data = np.array(corr_data)\n",
    "corr_data"
   ]
  },
  {
   "cell_type": "code",
   "execution_count": 189,
   "metadata": {},
   "outputs": [
    {
     "data": {
      "text/plain": [
       "(32, 24)"
      ]
     },
     "execution_count": 189,
     "metadata": {},
     "output_type": "execute_result"
    }
   ],
   "source": [
    "corr_data.shape"
   ]
  },
  {
   "cell_type": "markdown",
   "metadata": {},
   "source": [
    "Полные данные получены для 259 кодовых названий из 1886. Посчитаем корреляционную матрицу."
   ]
  },
  {
   "cell_type": "code",
   "execution_count": 190,
   "metadata": {
    "scrolled": true
   },
   "outputs": [
    {
     "data": {
      "text/plain": [
       "array([[1.        , 0.5953742 , 0.69732624, ..., 0.67139033, 0.67261863,\n",
       "        0.41982456],\n",
       "       [0.5953742 , 1.        , 0.83928035, ..., 0.65945266, 0.56509839,\n",
       "        0.48552049],\n",
       "       [0.69732624, 0.83928035, 1.        , ..., 0.66252889, 0.6029461 ,\n",
       "        0.44653669],\n",
       "       ...,\n",
       "       [0.67139033, 0.65945266, 0.66252889, ..., 1.        , 0.67867526,\n",
       "        0.16692548],\n",
       "       [0.67261863, 0.56509839, 0.6029461 , ..., 0.67867526, 1.        ,\n",
       "        0.28466271],\n",
       "       [0.41982456, 0.48552049, 0.44653669, ..., 0.16692548, 0.28466271,\n",
       "        1.        ]])"
      ]
     },
     "execution_count": 190,
     "metadata": {},
     "output_type": "execute_result"
    }
   ],
   "source": [
    "corr_matrix = np.corrcoef(corr_data)\n",
    "corr_matrix"
   ]
  },
  {
   "cell_type": "code",
   "execution_count": 180,
   "metadata": {},
   "outputs": [
    {
     "data": {
      "image/png": "[encoded data removed]",
      "text/plain": [
       "<Figure size 864x864 with 2 Axes>"
      ]
     },
     "metadata": {
      "needs_background": "light"
     },
     "output_type": "display_data"
    }
   ],
   "source": [
    "plt.figure(figsize=(12, 12))\n",
    "plt.imshow(corr_matrix)\n",
    "plt.colorbar()\n",
    "plt.title('Correlation matrix')\n",
    "plt.show()"
   ]
  },
  {
   "cell_type": "markdown",
   "metadata": {},
   "source": [
    "Оценим влияние этой корреляции с помощью гистограммы."
   ]
  },
  {
   "cell_type": "code",
   "execution_count": 192,
   "metadata": {},
   "outputs": [
    {
     "data": {
      "image/png": "[encoded data removed]",
      "text/plain": [
       "<Figure size 864x864 with 1 Axes>"
      ]
     },
     "metadata": {
      "needs_background": "light"
     },
     "output_type": "display_data"
    }
   ],
   "source": [
    "plt.figure(figsize=(12, 12))\n",
    "plt.hist(corr_matrix.flatten())\n",
    "plt.show()"
   ]
  },
  {
   "cell_type": "code",
   "execution_count": 182,
   "metadata": {},
   "outputs": [
    {
     "data": {
      "image/png": "[encoded data removed]",
      "text/plain": [
       "<Figure size 864x864 with 1 Axes>"
      ]
     },
     "metadata": {
      "needs_background": "light"
     },
     "output_type": "display_data"
    }
   ],
   "source": [
    "plt.figure(figsize=(12, 12))\n",
    "plt.hist(corr_matrix.flatten(), bins = 20)\n",
    "plt.show()"
   ]
  },
  {
   "cell_type": "markdown",
   "metadata": {},
   "source": [
    "Результаты говорят о сильной положительной связи между спросом на различные товары в группе. "
   ]
  },
  {
   "cell_type": "markdown",
   "metadata": {},
   "source": [
    "## Вывод\n",
    "\n",
    "### Увеличение спроса на один товар в группе влечёт увеличение спроса на остальные. Отсутсвие отрицательной связи позволяет нам максимизировать спрос на каждый товар в группе независимо от остальных."
   ]
  },
  {
   "cell_type": "markdown",
   "metadata": {},
   "source": [
    "## Товары с наибольшей корреляцией"
   ]
  },
  {
   "cell_type": "code",
   "execution_count": 193,
   "metadata": {},
   "outputs": [],
   "source": [
    "correlated_pairs = []\n",
    "n = corr_matrix.shape[0]\n",
    "for i in range(n):\n",
    "    for j in range(i + 1, n):\n",
    "        if corr_matrix[i, j] >= 0.8:\n",
    "            correlated_pairs.append((corr_codes[i], corr_codes[j]))"
   ]
  },
  {
   "cell_type": "code",
   "execution_count": 194,
   "metadata": {},
   "outputs": [
    {
     "data": {
      "text/plain": [
       "[(23558304, 24929929),\n",
       " (23863262, 23739673),\n",
       " (23863262, 23553194),\n",
       " (23863262, 23668133),\n",
       " (23794511, 23008489),\n",
       " (23739666, 23739673),\n",
       " (24973526, 23593015),\n",
       " (24973526, 23668133),\n",
       " (24973526, 23964266),\n",
       " (23739673, 23553194),\n",
       " (23739673, 26000244),\n",
       " (23553194, 26000244),\n",
       " (23593015, 23668133),\n",
       " (26000251, 26000268),\n",
       " (26000244, 23668126),\n",
       " (23008489, 24361309),\n",
       " (23668133, 23640429),\n",
       " (23668133, 23964266),\n",
       " (23668133, 24361309)]"
      ]
     },
     "execution_count": 194,
     "metadata": {},
     "output_type": "execute_result"
    }
   ],
   "source": [
    "correlated_pairs"
   ]
  },
  {
   "cell_type": "code",
   "execution_count": 195,
   "metadata": {},
   "outputs": [],
   "source": [
    "corr_named_pairs = []\n",
    "for pair in correlated_pairs:\n",
    "    corr_named_pairs.append((data[data['code']== pair[0]].name_1.values[0], data[data['code']== pair[1]].name_1.values[0]))"
   ]
  },
  {
   "cell_type": "code",
   "execution_count": 196,
   "metadata": {},
   "outputs": [
    {
     "data": {
      "text/plain": [
       "[('Скраб д/тела Банька Агафьи мыльно-березо',\n",
       "  'Порошок стиральный Миф-автомат Свежесть'),\n",
       " ('Станки одноразовые Super-Max Twin Blade',\n",
       "  'Средство чистящее Мистер КРЯК для унитаз'),\n",
       " ('Станки одноразовые Super-Max Twin Blade',\n",
       "  'Бальзам BEAUTY FARM на козьем молоке для'),\n",
       " ('Станки одноразовые Super-Max Twin Blade',\n",
       "  'Масло Репейное с кастор. маслом и витами'),\n",
       " ('Прокладки гигиенические NATURELLA Ultra', 'Шампунь Villa облепиха 1000мл'),\n",
       " ('Средство чистящее Мистер КРЯК для унитаз',\n",
       "  'Средство чистящее Мистер КРЯК для унитаз'),\n",
       " ('Средство для чистки ванной и кафеля 750м',\n",
       "  'Средство для чистки гриля и духовых шкаф'),\n",
       " ('Средство для чистки ванной и кафеля 750м',\n",
       "  'Масло Репейное с кастор. маслом и витами'),\n",
       " ('Средство для чистки ванной и кафеля 750м',\n",
       "  'Освежитель воздуха  Econel Свежесть зеле'),\n",
       " ('Средство чистящее Мистер КРЯК для унитаз',\n",
       "  'Бальзам BEAUTY FARM на козьем молоке для'),\n",
       " ('Средство чистящее Мистер КРЯК для унитаз',\n",
       "  'Освежитель воздуха KOOL AQUA Лесная ягод'),\n",
       " ('Бальзам BEAUTY FARM на козьем молоке для',\n",
       "  'Освежитель воздуха KOOL AQUA Лесная ягод'),\n",
       " ('Средство для чистки гриля и духовых шкаф',\n",
       "  'Масло Репейное с кастор. маслом и витами'),\n",
       " ('Освежитель воздуха KOOL AQUA Морской бри',\n",
       "  'Освежитель воздуха KOOL AQUA После дождя'),\n",
       " ('Освежитель воздуха KOOL AQUA Лесная ягод',\n",
       "  'Масло Репейное с целебными травами'),\n",
       " ('Шампунь Villa облепиха 1000мл', 'Средство чистящее Comet лимон 400г'),\n",
       " ('Масло Репейное с кастор. маслом и витами',\n",
       "  'Кондиционер концентрированный для белья'),\n",
       " ('Масло Репейное с кастор. маслом и витами',\n",
       "  'Освежитель воздуха  Econel Свежесть зеле'),\n",
       " ('Масло Репейное с кастор. маслом и витами',\n",
       "  'Средство чистящее Comet лимон 400г')]"
      ]
     },
     "execution_count": 196,
     "metadata": {},
     "output_type": "execute_result"
    }
   ],
   "source": [
    "corr_named_pairs"
   ]
  },
  {
   "cell_type": "markdown",
   "metadata": {},
   "source": [
    "# Попробуем с неделями"
   ]
  },
  {
   "cell_type": "code",
   "execution_count": 214,
   "metadata": {},
   "outputs": [],
   "source": [
    "data2=addYearWeekDay(data, timestamp = ['year', 'month', 'week'])"
   ]
  },
  {
   "cell_type": "code",
   "execution_count": 215,
   "metadata": {},
   "outputs": [
    {
     "data": {
      "text/html": [
       "<div>\n",
       "<style scoped>\n",
       "    .dataframe tbody tr th:only-of-type {\n",
       "        vertical-align: middle;\n",
       "    }\n",
       "\n",
       "    .dataframe tbody tr th {\n",
       "        vertical-align: top;\n",
       "    }\n",
       "\n",
       "    .dataframe thead th {\n",
       "        text-align: right;\n",
       "    }\n",
       "</style>\n",
       "<table border=\"1\" class=\"dataframe\">\n",
       "  <thead>\n",
       "    <tr style=\"text-align: right;\">\n",
       "      <th></th>\n",
       "      <th>depo_code</th>\n",
       "      <th>depo_name</th>\n",
       "      <th>date</th>\n",
       "      <th>group_code</th>\n",
       "      <th>group_name</th>\n",
       "      <th>code</th>\n",
       "      <th>name_1</th>\n",
       "      <th>name_2</th>\n",
       "      <th>quantity</th>\n",
       "      <th>income</th>\n",
       "      <th>profit_1</th>\n",
       "      <th>profit_2</th>\n",
       "      <th>price</th>\n",
       "      <th>year</th>\n",
       "      <th>month</th>\n",
       "      <th>week</th>\n",
       "    </tr>\n",
       "  </thead>\n",
       "  <tbody>\n",
       "    <tr>\n",
       "      <td>0</td>\n",
       "      <td>E</td>\n",
       "      <td>Б Грузино хоз</td>\n",
       "      <td>2017-08-10</td>\n",
       "      <td>Q01</td>\n",
       "      <td>Бытовая химия</td>\n",
       "      <td>23332850</td>\n",
       "      <td>Паста зубная Splat prof ультракомплекс 1</td>\n",
       "      <td>Паста зубная Splat prof ультракомплекс 100мл</td>\n",
       "      <td>1</td>\n",
       "      <td>154.0</td>\n",
       "      <td>109.51</td>\n",
       "      <td>159.0</td>\n",
       "      <td>159.0</td>\n",
       "      <td>2017</td>\n",
       "      <td>8</td>\n",
       "      <td>32</td>\n",
       "    </tr>\n",
       "    <tr>\n",
       "      <td>1</td>\n",
       "      <td>E</td>\n",
       "      <td>Б Грузино хоз</td>\n",
       "      <td>2017-08-10</td>\n",
       "      <td>Q01</td>\n",
       "      <td>Бытовая химия</td>\n",
       "      <td>23595712</td>\n",
       "      <td>Щетка зубная Splat COMPLETE Soft для Ком</td>\n",
       "      <td>Щетка зубная Splat COMPLETE Soft для Комплексн...</td>\n",
       "      <td>1</td>\n",
       "      <td>174.0</td>\n",
       "      <td>116.21</td>\n",
       "      <td>179.0</td>\n",
       "      <td>179.0</td>\n",
       "      <td>2017</td>\n",
       "      <td>8</td>\n",
       "      <td>32</td>\n",
       "    </tr>\n",
       "    <tr>\n",
       "      <td>2</td>\n",
       "      <td>E</td>\n",
       "      <td>Б Грузино хоз</td>\n",
       "      <td>2017-08-10</td>\n",
       "      <td>Q01</td>\n",
       "      <td>Бытовая химия</td>\n",
       "      <td>23668331</td>\n",
       "      <td>Паста зубная BLEND-A-MED ProExpert Все в</td>\n",
       "      <td>Паста зубная BLEND-A-MED ProExpert Все в одном...</td>\n",
       "      <td>1</td>\n",
       "      <td>169.0</td>\n",
       "      <td>114.72</td>\n",
       "      <td>169.0</td>\n",
       "      <td>169.0</td>\n",
       "      <td>2017</td>\n",
       "      <td>8</td>\n",
       "      <td>32</td>\n",
       "    </tr>\n",
       "    <tr>\n",
       "      <td>3</td>\n",
       "      <td>E</td>\n",
       "      <td>Б Грузино хоз</td>\n",
       "      <td>2017-08-10</td>\n",
       "      <td>Q01</td>\n",
       "      <td>Бытовая химия</td>\n",
       "      <td>23782174</td>\n",
       "      <td>Прокладки гигиенические NATURELLA Camomi</td>\n",
       "      <td>Прокладки гигиенические NATURELLA Camomile Nor...</td>\n",
       "      <td>1</td>\n",
       "      <td>180.0</td>\n",
       "      <td>134.91</td>\n",
       "      <td>189.0</td>\n",
       "      <td>189.0</td>\n",
       "      <td>2017</td>\n",
       "      <td>8</td>\n",
       "      <td>32</td>\n",
       "    </tr>\n",
       "    <tr>\n",
       "      <td>4</td>\n",
       "      <td>E</td>\n",
       "      <td>Б Грузино хоз</td>\n",
       "      <td>2017-08-10</td>\n",
       "      <td>Q01</td>\n",
       "      <td>Бытовая химия</td>\n",
       "      <td>23830790</td>\n",
       "      <td>Средство для мытья посуды 'Help' Бальзам</td>\n",
       "      <td>Средство для мытья посуды 'Help' Бальзам Лимон...</td>\n",
       "      <td>1</td>\n",
       "      <td>74.0</td>\n",
       "      <td>46.67</td>\n",
       "      <td>75.0</td>\n",
       "      <td>75.0</td>\n",
       "      <td>2017</td>\n",
       "      <td>8</td>\n",
       "      <td>32</td>\n",
       "    </tr>\n",
       "  </tbody>\n",
       "</table>\n",
       "</div>"
      ],
      "text/plain": [
       "  depo_code      depo_name       date group_code     group_name      code  \\\n",
       "0         E  Б Грузино хоз 2017-08-10        Q01  Бытовая химия  23332850   \n",
       "1         E  Б Грузино хоз 2017-08-10        Q01  Бытовая химия  23595712   \n",
       "2         E  Б Грузино хоз 2017-08-10        Q01  Бытовая химия  23668331   \n",
       "3         E  Б Грузино хоз 2017-08-10        Q01  Бытовая химия  23782174   \n",
       "4         E  Б Грузино хоз 2017-08-10        Q01  Бытовая химия  23830790   \n",
       "\n",
       "                                     name_1  \\\n",
       "0  Паста зубная Splat prof ультракомплекс 1   \n",
       "1  Щетка зубная Splat COMPLETE Soft для Ком   \n",
       "2  Паста зубная BLEND-A-MED ProExpert Все в   \n",
       "3  Прокладки гигиенические NATURELLA Camomi   \n",
       "4  Средство для мытья посуды 'Help' Бальзам   \n",
       "\n",
       "                                              name_2  quantity  income  \\\n",
       "0       Паста зубная Splat prof ультракомплекс 100мл         1   154.0   \n",
       "1  Щетка зубная Splat COMPLETE Soft для Комплексн...         1   174.0   \n",
       "2  Паста зубная BLEND-A-MED ProExpert Все в одном...         1   169.0   \n",
       "3  Прокладки гигиенические NATURELLA Camomile Nor...         1   180.0   \n",
       "4  Средство для мытья посуды 'Help' Бальзам Лимон...         1    74.0   \n",
       "\n",
       "   profit_1  profit_2  price  year  month  week  \n",
       "0    109.51     159.0  159.0  2017      8    32  \n",
       "1    116.21     179.0  179.0  2017      8    32  \n",
       "2    114.72     169.0  169.0  2017      8    32  \n",
       "3    134.91     189.0  189.0  2017      8    32  \n",
       "4     46.67      75.0   75.0  2017      8    32  "
      ]
     },
     "execution_count": 215,
     "metadata": {},
     "output_type": "execute_result"
    }
   ],
   "source": [
    "data2.head()"
   ]
  },
  {
   "cell_type": "code",
   "execution_count": 216,
   "metadata": {},
   "outputs": [
    {
     "data": {
      "text/plain": [
       "[(2017, 8, 32),\n",
       " (2017, 8, 33),\n",
       " (2017, 8, 34),\n",
       " (2017, 8, 35),\n",
       " (2017, 9, 35),\n",
       " (2017, 9, 36),\n",
       " (2017, 9, 37),\n",
       " (2017, 9, 38),\n",
       " (2017, 9, 39),\n",
       " (2017, 10, 39),\n",
       " (2017, 10, 40),\n",
       " (2017, 10, 41),\n",
       " (2017, 10, 42),\n",
       " (2017, 10, 43),\n",
       " (2017, 10, 44),\n",
       " (2017, 11, 44),\n",
       " (2017, 11, 45),\n",
       " (2017, 11, 46),\n",
       " (2017, 11, 47),\n",
       " (2017, 11, 48),\n",
       " (2017, 12, 48),\n",
       " (2017, 12, 49),\n",
       " (2017, 12, 50),\n",
       " (2017, 12, 51),\n",
       " (2017, 12, 52),\n",
       " (2018, 1, 1),\n",
       " (2018, 1, 2),\n",
       " (2018, 1, 3),\n",
       " (2018, 1, 4),\n",
       " (2018, 1, 5),\n",
       " (2018, 2, 5),\n",
       " (2018, 2, 6),\n",
       " (2018, 2, 7),\n",
       " (2018, 2, 8),\n",
       " (2018, 2, 9),\n",
       " (2018, 3, 9),\n",
       " (2018, 3, 10),\n",
       " (2018, 3, 11),\n",
       " (2018, 3, 12),\n",
       " (2018, 3, 13),\n",
       " (2018, 4, 13),\n",
       " (2018, 4, 14),\n",
       " (2018, 4, 15),\n",
       " (2018, 4, 16),\n",
       " (2018, 4, 17),\n",
       " (2018, 4, 18),\n",
       " (2018, 5, 18),\n",
       " (2018, 5, 19),\n",
       " (2018, 5, 20),\n",
       " (2018, 5, 21),\n",
       " (2018, 5, 22),\n",
       " (2018, 6, 22),\n",
       " (2018, 6, 23),\n",
       " (2018, 6, 24),\n",
       " (2018, 6, 25),\n",
       " (2018, 6, 26),\n",
       " (2018, 7, 26),\n",
       " (2018, 7, 27),\n",
       " (2018, 7, 28),\n",
       " (2018, 7, 29),\n",
       " (2018, 7, 30),\n",
       " (2018, 7, 31),\n",
       " (2018, 8, 31),\n",
       " (2018, 8, 32),\n",
       " (2018, 8, 33),\n",
       " (2018, 8, 34),\n",
       " (2018, 8, 35),\n",
       " (2018, 9, 35),\n",
       " (2018, 9, 36),\n",
       " (2018, 9, 37),\n",
       " (2018, 9, 38),\n",
       " (2018, 9, 39),\n",
       " (2018, 10, 40),\n",
       " (2018, 10, 41),\n",
       " (2018, 10, 42),\n",
       " (2018, 10, 43),\n",
       " (2018, 10, 44),\n",
       " (2018, 11, 44),\n",
       " (2018, 11, 45),\n",
       " (2018, 11, 46),\n",
       " (2018, 11, 47),\n",
       " (2018, 11, 48),\n",
       " (2018, 12, 1),\n",
       " (2018, 12, 48),\n",
       " (2018, 12, 49),\n",
       " (2018, 12, 50),\n",
       " (2018, 12, 51),\n",
       " (2018, 12, 52),\n",
       " (2019, 1, 1),\n",
       " (2019, 1, 2),\n",
       " (2019, 1, 3),\n",
       " (2019, 1, 4),\n",
       " (2019, 1, 5),\n",
       " (2019, 2, 5),\n",
       " (2019, 2, 6),\n",
       " (2019, 2, 7),\n",
       " (2019, 2, 8),\n",
       " (2019, 2, 9),\n",
       " (2019, 3, 9),\n",
       " (2019, 3, 10),\n",
       " (2019, 3, 11),\n",
       " (2019, 3, 12),\n",
       " (2019, 3, 13),\n",
       " (2019, 4, 14),\n",
       " (2019, 4, 15),\n",
       " (2019, 4, 16),\n",
       " (2019, 4, 17),\n",
       " (2019, 4, 18),\n",
       " (2019, 5, 18),\n",
       " (2019, 5, 19),\n",
       " (2019, 5, 20),\n",
       " (2019, 5, 21),\n",
       " (2019, 5, 22),\n",
       " (2019, 6, 22),\n",
       " (2019, 6, 23),\n",
       " (2019, 6, 24),\n",
       " (2019, 6, 25),\n",
       " (2019, 6, 26),\n",
       " (2019, 7, 27),\n",
       " (2019, 7, 28),\n",
       " (2019, 7, 29),\n",
       " (2019, 7, 30),\n",
       " (2019, 7, 31),\n",
       " (2019, 8, 31),\n",
       " (2019, 8, 32),\n",
       " (2019, 8, 33),\n",
       " (2019, 8, 34),\n",
       " (2019, 8, 35),\n",
       " (2019, 9, 35),\n",
       " (2019, 9, 36),\n",
       " (2019, 9, 37),\n",
       " (2019, 9, 38),\n",
       " (2019, 9, 39),\n",
       " (2019, 9, 40),\n",
       " (2019, 10, 40),\n",
       " (2019, 10, 41),\n",
       " (2019, 10, 42),\n",
       " (2019, 10, 43),\n",
       " (2019, 10, 44),\n",
       " (2019, 11, 44),\n",
       " (2019, 11, 45),\n",
       " (2019, 11, 46),\n",
       " (2019, 11, 47),\n",
       " (2019, 11, 48),\n",
       " (2019, 12, 1),\n",
       " (2019, 12, 48),\n",
       " (2019, 12, 49),\n",
       " (2019, 12, 50),\n",
       " (2019, 12, 51),\n",
       " (2019, 12, 52),\n",
       " (2020, 1, 1),\n",
       " (2020, 1, 2),\n",
       " (2020, 1, 3),\n",
       " (2020, 1, 4),\n",
       " (2020, 1, 5),\n",
       " (2020, 2, 5),\n",
       " (2020, 2, 6),\n",
       " (2020, 2, 7),\n",
       " (2020, 2, 8),\n",
       " (2020, 2, 9),\n",
       " (2020, 3, 9),\n",
       " (2020, 3, 10),\n",
       " (2020, 3, 11),\n",
       " (2020, 3, 12),\n",
       " (2020, 3, 13),\n",
       " (2020, 3, 14),\n",
       " (2020, 4, 14),\n",
       " (2020, 4, 15),\n",
       " (2020, 4, 16),\n",
       " (2020, 4, 17),\n",
       " (2020, 4, 18),\n",
       " (2020, 5, 18),\n",
       " (2020, 5, 19),\n",
       " (2020, 5, 20),\n",
       " (2020, 5, 21),\n",
       " (2020, 5, 22),\n",
       " (2020, 6, 23),\n",
       " (2020, 6, 24),\n",
       " (2020, 6, 25),\n",
       " (2020, 6, 26),\n",
       " (2020, 6, 27),\n",
       " (2020, 7, 27),\n",
       " (2020, 7, 28),\n",
       " (2020, 7, 29),\n",
       " (2020, 7, 30),\n",
       " (2020, 7, 31),\n",
       " (2020, 8, 31),\n",
       " (2020, 8, 32)]"
      ]
     },
     "execution_count": 216,
     "metadata": {},
     "output_type": "execute_result"
    }
   ],
   "source": [
    "sorted(data1[data1['code'] == 23591929][['quantity', 'year', 'month', 'week']].groupby(['year', 'month', 'week']).sum().index)"
   ]
  },
  {
   "cell_type": "code",
   "execution_count": 217,
   "metadata": {},
   "outputs": [
    {
     "data": {
      "text/plain": [
       "array([ 5, 12,  6, ...,  5,  5,  5], dtype=int64)"
      ]
     },
     "execution_count": 217,
     "metadata": {},
     "output_type": "execute_result"
    }
   ],
   "source": [
    "data2[['code', 'year', 'month', 'week', 'quantity']].groupby(['code', 'year', 'month', 'week']).sum().values.reshape(1, -1)[0]"
   ]
  },
  {
   "cell_type": "code",
   "execution_count": 218,
   "metadata": {},
   "outputs": [],
   "source": [
    "corr_data = []\n",
    "corr_codes = []\n",
    "wrong_codes = []\n",
    "for code in list(data1.code.unique()):\n",
    "    data_code = data1[data1['code'] == code][['year', 'month', 'week', 'quantity']].groupby(['year', 'month', 'week']).sum().values.reshape(1, -1)[0]\n",
    "#     print(data_code.shape)\n",
    "    if data_code.shape[0] == 104:\n",
    "        corr_data.append(data_code)\n",
    "        corr_codes.append(code)\n",
    "    else:\n",
    "        wrong_codes.append(code)\n",
    "#         print(f'Not enougth data code {code}')"
   ]
  },
  {
   "cell_type": "code",
   "execution_count": 219,
   "metadata": {},
   "outputs": [
    {
     "data": {
      "text/plain": [
       "array([[ 2,  5,  2,  1,  7,  2,  2,  3,  3,  2,  2,  2,  2,  1,  3,  1,\n",
       "         2,  1,  1,  1,  1,  1,  2,  2,  1,  1,  3,  5,  5,  6,  4,  3,\n",
       "         5,  4,  5,  3,  3,  2,  5,  6,  4,  3,  5,  3,  4,  4,  1,  2,\n",
       "         1,  6,  2,  1,  1,  2,  1,  1,  1,  3,  2,  2,  2,  4,  2,  1,\n",
       "         3,  2,  2,  1,  5,  1,  1,  4,  3,  2,  1,  1,  1,  4,  7,  1,\n",
       "         3,  4,  1,  1,  1,  2,  1,  4,  1,  2,  1,  4,  1,  1,  2,  2,\n",
       "         2,  1,  1,  2,  1,  1,  1,  1],\n",
       "       [ 2,  1,  2,  1,  1,  1,  1,  1,  1,  1,  1,  2,  1,  3,  3,  2,\n",
       "         4,  2,  2,  2,  1,  3,  2,  2,  3,  2,  1,  1,  1,  2,  1,  2,\n",
       "         1,  1,  1,  1,  3,  1,  1,  1,  1,  2,  1,  1,  3,  2,  3,  4,\n",
       "         5,  3,  4,  3,  1,  3,  4,  6,  1,  4,  2,  2,  2,  1,  3,  1,\n",
       "         4,  1,  2,  1,  2,  1,  1,  1,  1,  2,  1,  1,  1,  1,  1,  2,\n",
       "         1,  2,  6,  4,  5,  2,  3,  4, 16, 13, 16,  9, 15, 16, 14,  7,\n",
       "         4,  6, 16, 14,  2,  5,  6, 12],\n",
       "       [ 2,  4,  6,  3,  1,  3,  3,  5,  3,  1,  2,  3,  1,  3,  4,  1,\n",
       "         2,  5,  3,  3,  2,  2,  2,  3,  2,  1,  1,  1,  4,  1,  2,  2,\n",
       "         1,  1,  3,  1,  1,  1,  1,  4,  5,  3,  6,  4,  1,  1,  3,  6,\n",
       "         5,  2,  6,  5,  9,  3,  2,  5,  7,  5,  3,  2,  5,  6,  5,  5,\n",
       "         2,  3,  3,  1,  1,  5,  2,  1,  2,  2,  1,  1,  2,  1,  4,  2,\n",
       "         1,  2,  2,  2,  4,  2,  1,  2,  9,  5,  2,  3,  2,  1,  3,  5,\n",
       "         1,  1,  3,  1,  1,  1,  1,  1],\n",
       "       [ 1,  2, 12, 10, 10,  6,  5,  5,  9,  3,  3,  6,  3,  7,  4,  2,\n",
       "         5,  7,  5,  2,  2,  2,  3,  2,  3,  4,  6,  9,  3,  5,  9, 17,\n",
       "        10, 15,  8, 17, 11, 15,  1, 11, 10, 10, 12,  7,  2, 10, 11,  8,\n",
       "        13, 20, 12, 14,  6,  4,  6, 13, 16,  8,  9,  9, 15,  8,  8,  9,\n",
       "         4,  8, 12,  5,  2,  5,  4, 11,  6,  1,  3,  5,  2,  2,  6,  1,\n",
       "         5,  1,  1,  3,  3,  1,  1,  3,  3,  3,  1,  2,  4,  1,  8,  1,\n",
       "         2,  1,  1,  1,  1,  2,  1,  1],\n",
       "       [ 6,  8, 14, 10,  7, 13,  5,  7,  3,  7,  8, 11,  9,  3,  3,  8,\n",
       "         9, 11,  2,  4,  8,  4, 10,  4,  3, 17, 11, 13,  5, 12, 11, 15,\n",
       "         6, 10, 11, 12, 21, 12,  1, 10, 13,  8,  9, 15,  2, 12, 14,  7,\n",
       "        10, 17, 16, 18,  7,  1,  7,  8, 22,  9, 15, 11, 13, 15, 16,  1,\n",
       "        11,  6,  9, 12,  1,  8,  6,  7,  5,  7,  1,  2,  2,  3,  2,  3,\n",
       "         5,  1,  2,  3,  6,  1,  2,  3,  5,  4,  2,  1,  2,  2,  2,  1,\n",
       "         2,  2,  2,  1,  1,  1,  1,  1],\n",
       "       [ 1,  1,  5,  4,  6, 15, 10,  4,  1,  5,  3, 14,  6, 15,  4,  5,\n",
       "         6, 11, 11, 13, 12, 19, 21, 15,  7, 28, 37, 23, 22, 11,  7, 43,\n",
       "        48, 35, 32, 55, 48, 19, 20,  8, 21, 24, 20, 36, 25,  2, 27, 33,\n",
       "        18, 19,  2, 18, 15, 18, 31,  3,  3, 22, 18, 27, 10, 10,  1, 26,\n",
       "        16, 20, 26, 16, 17,  9,  9, 14,  7, 10, 13, 14, 14,  7, 16, 30,\n",
       "        21, 31, 14, 27, 22, 11, 13, 21, 36, 35, 22, 26, 18, 33, 43, 24,\n",
       "         6, 25, 20, 29, 14, 11,  4, 27],\n",
       "       [ 4,  2,  6,  2,  4,  3,  9,  4,  2,  2, 10,  4,  6,  3,  3,  7,\n",
       "         2,  1,  4,  2,  3,  5,  7,  5,  3,  5,  7,  1,  2,  1,  2,  3,\n",
       "         2,  3,  3,  2,  5,  3,  8,  2,  2,  3,  2,  1,  6,  9,  2,  3,\n",
       "        12,  2,  1,  6,  4,  2,  3,  2,  2,  5,  5,  6,  1,  1,  1,  3,\n",
       "         1,  3,  2,  1,  2,  7,  1,  2,  1,  2,  4,  2,  5,  2,  2,  3,\n",
       "         1,  6,  1,  2,  1,  4,  4,  3,  1,  1,  1,  2,  3,  1,  1,  1,\n",
       "         2,  1,  3,  1,  2,  1,  1,  1],\n",
       "       [ 2,  3,  4,  2,  1,  2,  3,  2,  1,  1,  1,  1,  2,  1,  1,  1,\n",
       "         2,  1,  2,  2,  1,  1,  3,  1,  1,  1,  2,  4,  2,  2,  2,  1,\n",
       "         2,  5,  1,  1,  3,  1,  1,  5,  4,  1,  1,  7,  3,  1,  2,  1,\n",
       "         3,  3,  2,  2,  2,  2,  2,  1,  2,  4,  1,  2,  2,  2,  1,  2,\n",
       "         1,  2,  2,  1,  1,  2,  1,  1,  1,  3,  1,  2,  1,  3,  1,  1,\n",
       "         1,  1,  1,  2,  1,  1,  2,  1,  1,  1,  1,  1,  2,  1,  2,  1,\n",
       "         1,  1,  1,  1,  1,  1,  1,  1]], dtype=int64)"
      ]
     },
     "execution_count": 219,
     "metadata": {},
     "output_type": "execute_result"
    }
   ],
   "source": [
    "corr_data = np.array(corr_data)\n",
    "corr_data"
   ]
  },
  {
   "cell_type": "code",
   "execution_count": 221,
   "metadata": {},
   "outputs": [
    {
     "data": {
      "text/plain": [
       "(8, 104)"
      ]
     },
     "execution_count": 221,
     "metadata": {},
     "output_type": "execute_result"
    }
   ],
   "source": [
    "corr_data.shape"
   ]
  },
  {
   "cell_type": "code",
   "execution_count": 222,
   "metadata": {
    "scrolled": true
   },
   "outputs": [
    {
     "data": {
      "text/plain": [
       "array([[ 1.        , -0.29757593, -0.09259499,  0.25383198,  0.14369923,\n",
       "         0.06606339, -0.04089527,  0.24255289],\n",
       "       [-0.29757593,  1.        ,  0.06761256, -0.28990769, -0.34734296,\n",
       "         0.28948835, -0.25400024, -0.20936843],\n",
       "       [-0.09259499,  0.06761256,  1.        ,  0.27809299,  0.25354373,\n",
       "        -0.09874194, -0.05230162,  0.15737373],\n",
       "       [ 0.25383198, -0.28990769,  0.27809299,  1.        ,  0.70054371,\n",
       "         0.14974168,  0.02063317,  0.29648449],\n",
       "       [ 0.14369923, -0.34734296,  0.25354373,  0.70054371,  1.        ,\n",
       "         0.02171552,  0.10281671,  0.35407447],\n",
       "       [ 0.06606339,  0.28948835, -0.09874194,  0.14974168,  0.02171552,\n",
       "         1.        , -0.08197027,  0.0857508 ],\n",
       "       [-0.04089527, -0.25400024, -0.05230162,  0.02063317,  0.10281671,\n",
       "        -0.08197027,  1.        ,  0.0957145 ],\n",
       "       [ 0.24255289, -0.20936843,  0.15737373,  0.29648449,  0.35407447,\n",
       "         0.0857508 ,  0.0957145 ,  1.        ]])"
      ]
     },
     "execution_count": 222,
     "metadata": {},
     "output_type": "execute_result"
    }
   ],
   "source": [
    "corr_matrix = np.corrcoef(corr_data)\n",
    "corr_matrix"
   ]
  },
  {
   "cell_type": "code",
   "execution_count": 223,
   "metadata": {},
   "outputs": [
    {
     "data": {
      "image/png": "[encoded data removed]",
      "text/plain": [
       "<Figure size 864x864 with 2 Axes>"
      ]
     },
     "metadata": {
      "needs_background": "light"
     },
     "output_type": "display_data"
    }
   ],
   "source": [
    "plt.figure(figsize=(12, 12))\n",
    "plt.imshow(corr_matrix)\n",
    "plt.colorbar()\n",
    "plt.title('Correlation matrix')\n",
    "plt.show()"
   ]
  },
  {
   "cell_type": "code",
   "execution_count": 224,
   "metadata": {},
   "outputs": [
    {
     "data": {
      "image/png": "[encoded data removed]",
      "text/plain": [
       "<Figure size 864x864 with 1 Axes>"
      ]
     },
     "metadata": {
      "needs_background": "light"
     },
     "output_type": "display_data"
    }
   ],
   "source": [
    "plt.figure(figsize=(12, 12))\n",
    "plt.hist(corr_matrix.flatten(), bins = 20)\n",
    "plt.show()"
   ]
  },
  {
   "cell_type": "code",
   "execution_count": 231,
   "metadata": {},
   "outputs": [],
   "source": [
    "correlated_pairs = []\n",
    "n = corr_matrix.shape[0]\n",
    "for i in range(n):\n",
    "    for j in range(i + 1, n):\n",
    "        if corr_matrix[i, j] >= 0.2:\n",
    "            correlated_pairs.append((corr_codes[i], corr_codes[j]))"
   ]
  },
  {
   "cell_type": "code",
   "execution_count": 235,
   "metadata": {},
   "outputs": [
    {
     "name": "stdout",
     "output_type": "stream",
     "text": [
      "('Паста зубная детская JUICY ПЕРСИК 35мл', 'Освежитель воздуха KOOL AQUA Морской бри')\n",
      "('Паста зубная детская JUICY ПЕРСИК 35мл', 'Шампунь Head & Sholders 2в1 освежающий м')\n",
      "('Мыло жидкое HELP МОЛОКО И МЕД 300мл', 'Щетка зубная Народная арт.908')\n",
      "('Паста зубная Blend-a-Мed ProExpert Все', 'Освежитель воздуха KOOL AQUA Морской бри')\n",
      "('Паста зубная Blend-a-Мed ProExpert Все', 'Освежитель воздуха KOOL AQUA Лесная ягод')\n",
      "('Освежитель воздуха KOOL AQUA Морской бри', 'Освежитель воздуха KOOL AQUA Лесная ягод')\n",
      "('Освежитель воздуха KOOL AQUA Морской бри', 'Шампунь Head & Sholders 2в1 освежающий м')\n",
      "('Освежитель воздуха KOOL AQUA Лесная ягод', 'Шампунь Head & Sholders 2в1 освежающий м')\n"
     ]
    }
   ],
   "source": [
    "corr_named_pairs = []\n",
    "for pair in correlated_pairs:\n",
    "    corr_named_pairs.append((data[data['code']== pair[0]].name_1.values[0], data[data['code']== pair[1]].name_1.values[0]))\n",
    "for x in corr_named_pairs: print(x)"
   ]
  }
 ],
 "metadata": {
  "kernelspec": {
   "display_name": "Python 3",
   "language": "python",
   "name": "python3"
  },
  "language_info": {
   "codemirror_mode": {
    "name": "ipython",
    "version": 3
   },
   "file_extension": ".py",
   "mimetype": "text/x-python",
   "name": "python",
   "nbconvert_exporter": "python",
   "pygments_lexer": "ipython3",
   "version": "3.7.4"
  }
 },
 "nbformat": 4,
 "nbformat_minor": 4
}
